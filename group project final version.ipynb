{
 "cells": [
  {
   "cell_type": "markdown",
   "metadata": {},
   "source": [
    "# House Prices: Advanced Regression Techniques\n",
    "\n",
    "## House Prices: Advanced Regression Techniques\n",
    "\n",
    "#### Team Name: MLGW4\n",
    "#### Score: 0.11878\n",
    "#### Rank: top 14%"
   ]
  },
  {
   "cell_type": "markdown",
   "metadata": {},
   "source": [
    "#### Global hyperpameters"
   ]
  },
  {
   "cell_type": "code",
   "execution_count": 1,
   "metadata": {},
   "outputs": [],
   "source": [
    "SEED                    = 12345   # global random seed for better reproducibility\n",
    "GLM_SELECTION_THRESHOLD = 0.001   # threshold above which a GLM coefficient is considered \"selected\""
   ]
  },
  {
   "cell_type": "markdown",
   "metadata": {},
   "source": [
    "#### python imports and inits"
   ]
  },
  {
   "cell_type": "code",
   "execution_count": 2,
   "metadata": {},
   "outputs": [
    {
     "name": "stdout",
     "output_type": "stream",
     "text": [
      "Checking whether there is an H2O instance running at http://localhost:54321 ..... not found.\n",
      "Attempting to start a local H2O server...\n",
      "; OpenJDK 64-Bit Server VM (build 11.0.6+8-b765.1, mixed mode)\n",
      "  Starting server from D:\\Anaconda3\\lib\\site-packages\\h2o\\backend\\bin\\h2o.jar\n",
      "  Ice root: C:\\Users\\edu_a\\AppData\\Local\\Temp\\tmp18ul55bf\n",
      "  JVM stdout: C:\\Users\\edu_a\\AppData\\Local\\Temp\\tmp18ul55bf\\h2o_edu_a_started_from_python.out\n",
      "  JVM stderr: C:\\Users\\edu_a\\AppData\\Local\\Temp\\tmp18ul55bf\\h2o_edu_a_started_from_python.err\n",
      "  Server is running at http://127.0.0.1:54321\n",
      "Connecting to H2O server at http://127.0.0.1:54321 ... successful.\n"
     ]
    },
    {
     "data": {
      "text/html": [
       "<div style=\"overflow:auto\"><table style=\"width:50%\"><tr><td>H2O_cluster_uptime:</td>\n",
       "<td>02 secs</td></tr>\n",
       "<tr><td>H2O_cluster_timezone:</td>\n",
       "<td>America/New_York</td></tr>\n",
       "<tr><td>H2O_data_parsing_timezone:</td>\n",
       "<td>UTC</td></tr>\n",
       "<tr><td>H2O_cluster_version:</td>\n",
       "<td>3.30.0.5</td></tr>\n",
       "<tr><td>H2O_cluster_version_age:</td>\n",
       "<td>7 days, 23 hours and 46 minutes </td></tr>\n",
       "<tr><td>H2O_cluster_name:</td>\n",
       "<td>H2O_from_python_edu_a_0w4ifn</td></tr>\n",
       "<tr><td>H2O_cluster_total_nodes:</td>\n",
       "<td>1</td></tr>\n",
       "<tr><td>H2O_cluster_free_memory:</td>\n",
       "<td>24 Gb</td></tr>\n",
       "<tr><td>H2O_cluster_total_cores:</td>\n",
       "<td>0</td></tr>\n",
       "<tr><td>H2O_cluster_allowed_cores:</td>\n",
       "<td>0</td></tr>\n",
       "<tr><td>H2O_cluster_status:</td>\n",
       "<td>accepting new members, healthy</td></tr>\n",
       "<tr><td>H2O_connection_url:</td>\n",
       "<td>http://127.0.0.1:54321</td></tr>\n",
       "<tr><td>H2O_connection_proxy:</td>\n",
       "<td>{\"http\": null, \"https\": null}</td></tr>\n",
       "<tr><td>H2O_internal_security:</td>\n",
       "<td>False</td></tr>\n",
       "<tr><td>H2O_API_Extensions:</td>\n",
       "<td>Amazon S3, Algos, AutoML, Core V3, TargetEncoder, Core V4</td></tr>\n",
       "<tr><td>Python_version:</td>\n",
       "<td>3.6.4 final</td></tr></table></div>"
      ],
      "text/plain": [
       "--------------------------  ---------------------------------------------------------\n",
       "H2O_cluster_uptime:         02 secs\n",
       "H2O_cluster_timezone:       America/New_York\n",
       "H2O_data_parsing_timezone:  UTC\n",
       "H2O_cluster_version:        3.30.0.5\n",
       "H2O_cluster_version_age:    7 days, 23 hours and 46 minutes\n",
       "H2O_cluster_name:           H2O_from_python_edu_a_0w4ifn\n",
       "H2O_cluster_total_nodes:    1\n",
       "H2O_cluster_free_memory:    24 Gb\n",
       "H2O_cluster_total_cores:    0\n",
       "H2O_cluster_allowed_cores:  0\n",
       "H2O_cluster_status:         accepting new members, healthy\n",
       "H2O_connection_url:         http://127.0.0.1:54321\n",
       "H2O_connection_proxy:       {\"http\": null, \"https\": null}\n",
       "H2O_internal_security:      False\n",
       "H2O_API_Extensions:         Amazon S3, Algos, AutoML, Core V3, TargetEncoder, Core V4\n",
       "Python_version:             3.6.4 final\n",
       "--------------------------  ---------------------------------------------------------"
      ]
     },
     "metadata": {},
     "output_type": "display_data"
    }
   ],
   "source": [
    "from rmltk import explain, evaluate, model                        # simple module for training, explaining, and eval\n",
    "import h2o                                                        # import h2o python bindings to h2o java server\n",
    "from h2o.estimators.glm import H2OGeneralizedLinearEstimator\n",
    "from h2o.estimators.gbm import H2OGradientBoostingEstimator\n",
    "from h2o.grid.grid_search import H2OGridSearch\n",
    "import numpy as np                                                # array, vector, matrix calculations\n",
    "import operator                                                   # for sorting dictionaries\n",
    "import pandas as pd                                               # DataFrame handling\n",
    "import time                                                       # for timers\n",
    "from sklearn.preprocessing import OneHotEncoder                   # for one-hot encoding\n",
    "import xgboost as xgb                                             #xgboost for modeling\n",
    "from math import exp, expm1                                       #make exponential\n",
    "import matplotlib.pyplot as plt      # plotting\n",
    "pd.options.display.max_columns = 999 # enable display of all columns in notebook\n",
    "\n",
    "# enables display of plots in notebook\n",
    "%matplotlib inline\n",
    "\n",
    "np.random.seed(SEED)                     # set random seed for better reproducibility\n",
    "\n",
    "h2o.init(max_mem_size='24G', nthreads=4) # start h2o with plenty of memory and threads\n",
    "h2o.remove_all()                         # clears h2o memory\n",
    "h2o.no_progress()                        # turn off h2o progress indicators    "
   ]
  },
  {
   "cell_type": "markdown",
   "metadata": {},
   "source": [
    "## 1. Explore, and Prepare UCI Credit Card Default Data"
   ]
  },
  {
   "cell_type": "markdown",
   "metadata": {},
   "source": [
    "#### Import data and reformat"
   ]
  },
  {
   "cell_type": "code",
   "execution_count": 3,
   "metadata": {},
   "outputs": [],
   "source": [
    "df_train = pd.read_csv('https://gwu-workshop-kai.s3.amazonaws.com/train.csv')\n",
    "test = pd.read_csv('https://gwu-workshop-kai.s3.amazonaws.com/test.csv')"
   ]
  },
  {
   "cell_type": "markdown",
   "metadata": {},
   "source": [
    "#### determine data types"
   ]
  },
  {
   "cell_type": "code",
   "execution_count": 4,
   "metadata": {},
   "outputs": [
    {
     "name": "stdout",
     "output_type": "stream",
     "text": [
      "Categorical = ['MSZoning', 'Street', 'Alley', 'LotShape', 'LandContour', 'Utilities', 'LotConfig', 'LandSlope', 'Neighborhood', 'Condition1', 'Condition2', 'BldgType', 'HouseStyle', 'RoofStyle', 'RoofMatl', 'Exterior1st', 'Exterior2nd', 'MasVnrType', 'ExterQual', 'ExterCond', 'Foundation', 'BsmtQual', 'BsmtCond', 'BsmtExposure', 'BsmtFinType1', 'BsmtFinType2', 'Heating', 'HeatingQC', 'CentralAir', 'Electrical', 'KitchenQual', 'Functional', 'FireplaceQu', 'GarageType', 'GarageFinish', 'GarageQual', 'GarageCond', 'PavedDrive', 'PoolQC', 'Fence', 'MiscFeature', 'SaleType', 'SaleCondition']\n",
      "\n",
      "Numeric =  ['Id', 'MSSubClass', 'LotFrontage', 'LotArea', 'OverallQual', 'OverallCond', 'YearBuilt', 'YearRemodAdd', 'MasVnrArea', 'BsmtFinSF1', 'BsmtFinSF2', 'BsmtUnfSF', 'TotalBsmtSF', '1stFlrSF', '2ndFlrSF', 'LowQualFinSF', 'GrLivArea', 'BsmtFullBath', 'BsmtHalfBath', 'FullBath', 'HalfBath', 'BedroomAbvGr', 'KitchenAbvGr', 'TotRmsAbvGrd', 'Fireplaces', 'GarageYrBlt', 'GarageCars', 'GarageArea', 'WoodDeckSF', 'OpenPorchSF', 'EnclosedPorch', '3SsnPorch', 'ScreenPorch', 'PoolArea', 'MiscVal', 'MoSold', 'YrSold', 'SalePrice']\n"
     ]
    }
   ],
   "source": [
    "# Categorical boolean mask\n",
    "mask = df_train.dtypes==object\n",
    "\n",
    "# filter categorical columns using mask and turn it into a list\n",
    "cats = df_train.columns[mask].tolist()\n",
    "\n",
    "#filter numeric/float columns\n",
    "nums = df_train.columns[~mask].tolist()\n",
    "\n",
    "#print determine data types\n",
    "print(\"Categorical =\" , cats)\n",
    "print()\n",
    "print(\"Numeric = \", nums )"
   ]
  },
  {
   "cell_type": "markdown",
   "metadata": {},
   "source": [
    "## Split into to train and validation (before doing data prep!!!)"
   ]
  },
  {
   "cell_type": "code",
   "execution_count": 5,
   "metadata": {},
   "outputs": [
    {
     "name": "stdout",
     "output_type": "stream",
     "text": [
      "Train data rows = 1317, columns = 81\n",
      "Validation data rows = 143, columns = 81\n",
      "Test data rows = 1459, columns = 80\n"
     ]
    }
   ],
   "source": [
    "split_ratio = 0.9 # 90%/10% train/test split\n",
    "\n",
    "# execute split\n",
    "split = np.random.rand(len(df_train)) < split_ratio\n",
    "train = df_train[split]\n",
    "valid = df_train[~split]\n",
    "\n",
    "# summarize split\n",
    "print('Train data rows = %d, columns = %d' % (train.shape[0], train.shape[1]))\n",
    "print('Validation data rows = %d, columns = %d' % (valid.shape[0], valid.shape[1]))\n",
    "\n",
    "#summarize test set\n",
    "print('Test data rows = %d, columns = %d' % (test.shape[0], test.shape[1]))"
   ]
  },
  {
   "cell_type": "markdown",
   "metadata": {},
   "source": [
    "### describe all the categorical values in the original train model -- df_train"
   ]
  },
  {
   "cell_type": "code",
   "execution_count": 6,
   "metadata": {
    "scrolled": true
   },
   "outputs": [
    {
     "data": {
      "text/html": [
       "<div>\n",
       "<style scoped>\n",
       "    .dataframe tbody tr th:only-of-type {\n",
       "        vertical-align: middle;\n",
       "    }\n",
       "\n",
       "    .dataframe tbody tr th {\n",
       "        vertical-align: top;\n",
       "    }\n",
       "\n",
       "    .dataframe thead th {\n",
       "        text-align: right;\n",
       "    }\n",
       "</style>\n",
       "<table border=\"1\" class=\"dataframe\">\n",
       "  <thead>\n",
       "    <tr style=\"text-align: right;\">\n",
       "      <th></th>\n",
       "      <th>MSZoning</th>\n",
       "      <th>Street</th>\n",
       "      <th>Alley</th>\n",
       "      <th>LotShape</th>\n",
       "      <th>LandContour</th>\n",
       "      <th>Utilities</th>\n",
       "      <th>LotConfig</th>\n",
       "      <th>LandSlope</th>\n",
       "      <th>Neighborhood</th>\n",
       "      <th>Condition1</th>\n",
       "      <th>Condition2</th>\n",
       "      <th>BldgType</th>\n",
       "      <th>HouseStyle</th>\n",
       "      <th>RoofStyle</th>\n",
       "      <th>RoofMatl</th>\n",
       "      <th>Exterior1st</th>\n",
       "      <th>Exterior2nd</th>\n",
       "      <th>MasVnrType</th>\n",
       "      <th>ExterQual</th>\n",
       "      <th>ExterCond</th>\n",
       "      <th>Foundation</th>\n",
       "      <th>BsmtQual</th>\n",
       "      <th>BsmtCond</th>\n",
       "      <th>BsmtExposure</th>\n",
       "      <th>BsmtFinType1</th>\n",
       "      <th>BsmtFinType2</th>\n",
       "      <th>Heating</th>\n",
       "      <th>HeatingQC</th>\n",
       "      <th>CentralAir</th>\n",
       "      <th>Electrical</th>\n",
       "      <th>KitchenQual</th>\n",
       "      <th>Functional</th>\n",
       "      <th>FireplaceQu</th>\n",
       "      <th>GarageType</th>\n",
       "      <th>GarageFinish</th>\n",
       "      <th>GarageQual</th>\n",
       "      <th>GarageCond</th>\n",
       "      <th>PavedDrive</th>\n",
       "      <th>PoolQC</th>\n",
       "      <th>Fence</th>\n",
       "      <th>MiscFeature</th>\n",
       "      <th>SaleType</th>\n",
       "      <th>SaleCondition</th>\n",
       "    </tr>\n",
       "  </thead>\n",
       "  <tbody>\n",
       "    <tr>\n",
       "      <th>count</th>\n",
       "      <td>1460</td>\n",
       "      <td>1460</td>\n",
       "      <td>91</td>\n",
       "      <td>1460</td>\n",
       "      <td>1460</td>\n",
       "      <td>1460</td>\n",
       "      <td>1460</td>\n",
       "      <td>1460</td>\n",
       "      <td>1460</td>\n",
       "      <td>1460</td>\n",
       "      <td>1460</td>\n",
       "      <td>1460</td>\n",
       "      <td>1460</td>\n",
       "      <td>1460</td>\n",
       "      <td>1460</td>\n",
       "      <td>1460</td>\n",
       "      <td>1460</td>\n",
       "      <td>1452</td>\n",
       "      <td>1460</td>\n",
       "      <td>1460</td>\n",
       "      <td>1460</td>\n",
       "      <td>1423</td>\n",
       "      <td>1423</td>\n",
       "      <td>1422</td>\n",
       "      <td>1423</td>\n",
       "      <td>1422</td>\n",
       "      <td>1460</td>\n",
       "      <td>1460</td>\n",
       "      <td>1460</td>\n",
       "      <td>1459</td>\n",
       "      <td>1460</td>\n",
       "      <td>1460</td>\n",
       "      <td>770</td>\n",
       "      <td>1379</td>\n",
       "      <td>1379</td>\n",
       "      <td>1379</td>\n",
       "      <td>1379</td>\n",
       "      <td>1460</td>\n",
       "      <td>7</td>\n",
       "      <td>281</td>\n",
       "      <td>54</td>\n",
       "      <td>1460</td>\n",
       "      <td>1460</td>\n",
       "    </tr>\n",
       "    <tr>\n",
       "      <th>unique</th>\n",
       "      <td>5</td>\n",
       "      <td>2</td>\n",
       "      <td>2</td>\n",
       "      <td>4</td>\n",
       "      <td>4</td>\n",
       "      <td>2</td>\n",
       "      <td>5</td>\n",
       "      <td>3</td>\n",
       "      <td>25</td>\n",
       "      <td>9</td>\n",
       "      <td>8</td>\n",
       "      <td>5</td>\n",
       "      <td>8</td>\n",
       "      <td>6</td>\n",
       "      <td>8</td>\n",
       "      <td>15</td>\n",
       "      <td>16</td>\n",
       "      <td>4</td>\n",
       "      <td>4</td>\n",
       "      <td>5</td>\n",
       "      <td>6</td>\n",
       "      <td>4</td>\n",
       "      <td>4</td>\n",
       "      <td>4</td>\n",
       "      <td>6</td>\n",
       "      <td>6</td>\n",
       "      <td>6</td>\n",
       "      <td>5</td>\n",
       "      <td>2</td>\n",
       "      <td>5</td>\n",
       "      <td>4</td>\n",
       "      <td>7</td>\n",
       "      <td>5</td>\n",
       "      <td>6</td>\n",
       "      <td>3</td>\n",
       "      <td>5</td>\n",
       "      <td>5</td>\n",
       "      <td>3</td>\n",
       "      <td>3</td>\n",
       "      <td>4</td>\n",
       "      <td>4</td>\n",
       "      <td>9</td>\n",
       "      <td>6</td>\n",
       "    </tr>\n",
       "    <tr>\n",
       "      <th>top</th>\n",
       "      <td>RL</td>\n",
       "      <td>Pave</td>\n",
       "      <td>Grvl</td>\n",
       "      <td>Reg</td>\n",
       "      <td>Lvl</td>\n",
       "      <td>AllPub</td>\n",
       "      <td>Inside</td>\n",
       "      <td>Gtl</td>\n",
       "      <td>NAmes</td>\n",
       "      <td>Norm</td>\n",
       "      <td>Norm</td>\n",
       "      <td>1Fam</td>\n",
       "      <td>1Story</td>\n",
       "      <td>Gable</td>\n",
       "      <td>CompShg</td>\n",
       "      <td>VinylSd</td>\n",
       "      <td>VinylSd</td>\n",
       "      <td>None</td>\n",
       "      <td>TA</td>\n",
       "      <td>TA</td>\n",
       "      <td>PConc</td>\n",
       "      <td>TA</td>\n",
       "      <td>TA</td>\n",
       "      <td>No</td>\n",
       "      <td>Unf</td>\n",
       "      <td>Unf</td>\n",
       "      <td>GasA</td>\n",
       "      <td>Ex</td>\n",
       "      <td>Y</td>\n",
       "      <td>SBrkr</td>\n",
       "      <td>TA</td>\n",
       "      <td>Typ</td>\n",
       "      <td>Gd</td>\n",
       "      <td>Attchd</td>\n",
       "      <td>Unf</td>\n",
       "      <td>TA</td>\n",
       "      <td>TA</td>\n",
       "      <td>Y</td>\n",
       "      <td>Gd</td>\n",
       "      <td>MnPrv</td>\n",
       "      <td>Shed</td>\n",
       "      <td>WD</td>\n",
       "      <td>Normal</td>\n",
       "    </tr>\n",
       "    <tr>\n",
       "      <th>freq</th>\n",
       "      <td>1151</td>\n",
       "      <td>1454</td>\n",
       "      <td>50</td>\n",
       "      <td>925</td>\n",
       "      <td>1311</td>\n",
       "      <td>1459</td>\n",
       "      <td>1052</td>\n",
       "      <td>1382</td>\n",
       "      <td>225</td>\n",
       "      <td>1260</td>\n",
       "      <td>1445</td>\n",
       "      <td>1220</td>\n",
       "      <td>726</td>\n",
       "      <td>1141</td>\n",
       "      <td>1434</td>\n",
       "      <td>515</td>\n",
       "      <td>504</td>\n",
       "      <td>864</td>\n",
       "      <td>906</td>\n",
       "      <td>1282</td>\n",
       "      <td>647</td>\n",
       "      <td>649</td>\n",
       "      <td>1311</td>\n",
       "      <td>953</td>\n",
       "      <td>430</td>\n",
       "      <td>1256</td>\n",
       "      <td>1428</td>\n",
       "      <td>741</td>\n",
       "      <td>1365</td>\n",
       "      <td>1334</td>\n",
       "      <td>735</td>\n",
       "      <td>1360</td>\n",
       "      <td>380</td>\n",
       "      <td>870</td>\n",
       "      <td>605</td>\n",
       "      <td>1311</td>\n",
       "      <td>1326</td>\n",
       "      <td>1340</td>\n",
       "      <td>3</td>\n",
       "      <td>157</td>\n",
       "      <td>49</td>\n",
       "      <td>1267</td>\n",
       "      <td>1198</td>\n",
       "    </tr>\n",
       "  </tbody>\n",
       "</table>\n",
       "</div>"
      ],
      "text/plain": [
       "       MSZoning Street Alley LotShape LandContour Utilities LotConfig  \\\n",
       "count      1460   1460    91     1460        1460      1460      1460   \n",
       "unique        5      2     2        4           4         2         5   \n",
       "top          RL   Pave  Grvl      Reg         Lvl    AllPub    Inside   \n",
       "freq       1151   1454    50      925        1311      1459      1052   \n",
       "\n",
       "       LandSlope Neighborhood Condition1 Condition2 BldgType HouseStyle  \\\n",
       "count       1460         1460       1460       1460     1460       1460   \n",
       "unique         3           25          9          8        5          8   \n",
       "top          Gtl        NAmes       Norm       Norm     1Fam     1Story   \n",
       "freq        1382          225       1260       1445     1220        726   \n",
       "\n",
       "       RoofStyle RoofMatl Exterior1st Exterior2nd MasVnrType ExterQual  \\\n",
       "count       1460     1460        1460        1460       1452      1460   \n",
       "unique         6        8          15          16          4         4   \n",
       "top        Gable  CompShg     VinylSd     VinylSd       None        TA   \n",
       "freq        1141     1434         515         504        864       906   \n",
       "\n",
       "       ExterCond Foundation BsmtQual BsmtCond BsmtExposure BsmtFinType1  \\\n",
       "count       1460       1460     1423     1423         1422         1423   \n",
       "unique         5          6        4        4            4            6   \n",
       "top           TA      PConc       TA       TA           No          Unf   \n",
       "freq        1282        647      649     1311          953          430   \n",
       "\n",
       "       BsmtFinType2 Heating HeatingQC CentralAir Electrical KitchenQual  \\\n",
       "count          1422    1460      1460       1460       1459        1460   \n",
       "unique            6       6         5          2          5           4   \n",
       "top             Unf    GasA        Ex          Y      SBrkr          TA   \n",
       "freq           1256    1428       741       1365       1334         735   \n",
       "\n",
       "       Functional FireplaceQu GarageType GarageFinish GarageQual GarageCond  \\\n",
       "count        1460         770       1379         1379       1379       1379   \n",
       "unique          7           5          6            3          5          5   \n",
       "top           Typ          Gd     Attchd          Unf         TA         TA   \n",
       "freq         1360         380        870          605       1311       1326   \n",
       "\n",
       "       PavedDrive PoolQC  Fence MiscFeature SaleType SaleCondition  \n",
       "count        1460      7    281          54     1460          1460  \n",
       "unique          3      3      4           4        9             6  \n",
       "top             Y     Gd  MnPrv        Shed       WD        Normal  \n",
       "freq         1340      3    157          49     1267          1198  "
      ]
     },
     "execution_count": 6,
     "metadata": {},
     "output_type": "execute_result"
    }
   ],
   "source": [
    "#describe categorical data\n",
    "df_train[cats].describe()"
   ]
  },
  {
   "cell_type": "markdown",
   "metadata": {},
   "source": [
    "Since **`Utilities`** have only 2 unique values but 1459 out of 1460 values are the same, drop the column."
   ]
  },
  {
   "cell_type": "code",
   "execution_count": 7,
   "metadata": {},
   "outputs": [],
   "source": [
    "#drop column\n",
    "droplist = [\"Utilities\"]\n",
    "train = train.drop(columns = droplist)\n",
    "valid = valid.drop(columns = droplist)\n",
    "test = test.drop(columns = droplist)"
   ]
  },
  {
   "cell_type": "markdown",
   "metadata": {},
   "source": [
    "### Summarize and handle missing value of training data"
   ]
  },
  {
   "cell_type": "code",
   "execution_count": 8,
   "metadata": {},
   "outputs": [
    {
     "data": {
      "text/html": [
       "<div>\n",
       "<style scoped>\n",
       "    .dataframe tbody tr th:only-of-type {\n",
       "        vertical-align: middle;\n",
       "    }\n",
       "\n",
       "    .dataframe tbody tr th {\n",
       "        vertical-align: top;\n",
       "    }\n",
       "\n",
       "    .dataframe thead th {\n",
       "        text-align: right;\n",
       "    }\n",
       "</style>\n",
       "<table border=\"1\" class=\"dataframe\">\n",
       "  <thead>\n",
       "    <tr style=\"text-align: right;\">\n",
       "      <th></th>\n",
       "      <th>Missing Value Counts</th>\n",
       "    </tr>\n",
       "  </thead>\n",
       "  <tbody>\n",
       "    <tr>\n",
       "      <th>Electrical</th>\n",
       "      <td>1</td>\n",
       "    </tr>\n",
       "    <tr>\n",
       "      <th>MasVnrType</th>\n",
       "      <td>8</td>\n",
       "    </tr>\n",
       "    <tr>\n",
       "      <th>MasVnrArea</th>\n",
       "      <td>8</td>\n",
       "    </tr>\n",
       "    <tr>\n",
       "      <th>BsmtQual</th>\n",
       "      <td>37</td>\n",
       "    </tr>\n",
       "    <tr>\n",
       "      <th>BsmtCond</th>\n",
       "      <td>37</td>\n",
       "    </tr>\n",
       "    <tr>\n",
       "      <th>BsmtFinType1</th>\n",
       "      <td>37</td>\n",
       "    </tr>\n",
       "    <tr>\n",
       "      <th>BsmtExposure</th>\n",
       "      <td>38</td>\n",
       "    </tr>\n",
       "    <tr>\n",
       "      <th>BsmtFinType2</th>\n",
       "      <td>38</td>\n",
       "    </tr>\n",
       "    <tr>\n",
       "      <th>GarageCond</th>\n",
       "      <td>81</td>\n",
       "    </tr>\n",
       "    <tr>\n",
       "      <th>GarageQual</th>\n",
       "      <td>81</td>\n",
       "    </tr>\n",
       "    <tr>\n",
       "      <th>GarageFinish</th>\n",
       "      <td>81</td>\n",
       "    </tr>\n",
       "    <tr>\n",
       "      <th>GarageType</th>\n",
       "      <td>81</td>\n",
       "    </tr>\n",
       "    <tr>\n",
       "      <th>GarageYrBlt</th>\n",
       "      <td>81</td>\n",
       "    </tr>\n",
       "    <tr>\n",
       "      <th>LotFrontage</th>\n",
       "      <td>259</td>\n",
       "    </tr>\n",
       "    <tr>\n",
       "      <th>FireplaceQu</th>\n",
       "      <td>690</td>\n",
       "    </tr>\n",
       "    <tr>\n",
       "      <th>Fence</th>\n",
       "      <td>1179</td>\n",
       "    </tr>\n",
       "    <tr>\n",
       "      <th>Alley</th>\n",
       "      <td>1369</td>\n",
       "    </tr>\n",
       "    <tr>\n",
       "      <th>MiscFeature</th>\n",
       "      <td>1406</td>\n",
       "    </tr>\n",
       "    <tr>\n",
       "      <th>PoolQC</th>\n",
       "      <td>1453</td>\n",
       "    </tr>\n",
       "  </tbody>\n",
       "</table>\n",
       "</div>"
      ],
      "text/plain": [
       "              Missing Value Counts\n",
       "Electrical                       1\n",
       "MasVnrType                       8\n",
       "MasVnrArea                       8\n",
       "BsmtQual                        37\n",
       "BsmtCond                        37\n",
       "BsmtFinType1                    37\n",
       "BsmtExposure                    38\n",
       "BsmtFinType2                    38\n",
       "GarageCond                      81\n",
       "GarageQual                      81\n",
       "GarageFinish                    81\n",
       "GarageType                      81\n",
       "GarageYrBlt                     81\n",
       "LotFrontage                    259\n",
       "FireplaceQu                    690\n",
       "Fence                         1179\n",
       "Alley                         1369\n",
       "MiscFeature                   1406\n",
       "PoolQC                        1453"
      ]
     },
     "execution_count": 8,
     "metadata": {},
     "output_type": "execute_result"
    }
   ],
   "source": [
    "missingsum = df_train.isnull().sum()\n",
    "misslist = missingsum[missingsum>0].sort_values()\n",
    "misslist.to_frame(name=\"Missing Value Counts\")"
   ]
  },
  {
   "cell_type": "markdown",
   "metadata": {},
   "source": [
    "#### remove columns with 15% or more missing values"
   ]
  },
  {
   "cell_type": "code",
   "execution_count": 9,
   "metadata": {},
   "outputs": [
    {
     "name": "stdout",
     "output_type": "stream",
     "text": [
      "Missing values are: ['Electrical', 'MasVnrType', 'MasVnrArea', 'BsmtQual', 'BsmtCond', 'BsmtFinType1', 'BsmtExposure', 'BsmtFinType2', 'GarageCond', 'GarageQual', 'GarageFinish', 'GarageType', 'GarageYrBlt']\n",
      "\n",
      "Drop the following values: ['LotFrontage', 'FireplaceQu', 'Fence', 'Alley', 'MiscFeature', 'PoolQC']\n"
     ]
    }
   ],
   "source": [
    "#set 15% of total rows as threshold\n",
    "drop_threshold = int(len(df_train) * 0.15)\n",
    "\n",
    "#set mask\n",
    "mask = misslist < drop_threshold\n",
    "\n",
    "#filter the variables\n",
    "miss = list(misslist.index[mask])\n",
    "drop = [name for name in misslist.index if name not in miss]\n",
    "\n",
    "#remove columns stated above\n",
    "train = train.drop(columns = drop)\n",
    "valid = valid.drop(columns = drop)\n",
    "test = test.drop(columns = drop)\n",
    "\n",
    "#print the missing values, and the dropped values\n",
    "print(\"Missing values are:\",miss)\n",
    "print()\n",
    "print(\"Drop the following values:\",drop)\n"
   ]
  },
  {
   "cell_type": "markdown",
   "metadata": {},
   "source": [
    "#### determine the type of remaining missing data"
   ]
  },
  {
   "cell_type": "code",
   "execution_count": 10,
   "metadata": {},
   "outputs": [
    {
     "name": "stdout",
     "output_type": "stream",
     "text": [
      "Categorical missing variables are: ['Electrical', 'MasVnrType', 'BsmtQual', 'BsmtCond', 'BsmtFinType1', 'BsmtExposure', 'BsmtFinType2', 'GarageCond', 'GarageQual', 'GarageFinish', 'GarageType']\n",
      "\n",
      "Categorical numeric variables are: ['MasVnrArea', 'GarageYrBlt']\n"
     ]
    }
   ],
   "source": [
    "#filter the categorical missing variables\n",
    "miss_cats = [name for name in miss if name in cats]\n",
    "\n",
    "#filter the numeric missing variables\n",
    "miss_nums = [name for name in nums if name in miss]\n",
    "\n",
    "print(\"Categorical missing variables are:\", miss_cats)\n",
    "print()\n",
    "print(\"Categorical numeric variables are:\", miss_nums)"
   ]
  },
  {
   "cell_type": "markdown",
   "metadata": {},
   "source": [
    "#### describe the missing data"
   ]
  },
  {
   "cell_type": "code",
   "execution_count": 11,
   "metadata": {},
   "outputs": [
    {
     "name": "stdout",
     "output_type": "stream",
     "text": [
      "       Electrical MasVnrType BsmtQual BsmtCond BsmtFinType1 BsmtExposure  \\\n",
      "count        1317       1310     1284     1284         1284         1283   \n",
      "unique          5          4        4        4            6            4   \n",
      "top         SBrkr       None       TA       TA          Unf           No   \n",
      "freq         1201        776      581     1184          388          863   \n",
      "\n",
      "       BsmtFinType2 GarageCond GarageQual GarageFinish GarageType  \n",
      "count          1283       1247       1247         1247       1247  \n",
      "unique            6          5          5            3          6  \n",
      "top             Unf         TA         TA          Unf     Attchd  \n",
      "freq           1133       1196       1184          551        790  \n",
      "\n",
      "        MasVnrArea  GarageYrBlt\n",
      "count  1310.000000  1247.000000\n",
      "mean    104.696947  1978.626303\n",
      "std     181.320280    24.582352\n",
      "min       0.000000  1906.000000\n",
      "25%       0.000000  1961.500000\n",
      "50%       0.000000  1980.000000\n",
      "75%     168.750000  2002.000000\n",
      "max    1600.000000  2010.000000\n"
     ]
    }
   ],
   "source": [
    "#describe the data\n",
    "print(train[miss_cats].describe())\n",
    "print()\n",
    "print(train[miss_nums].describe())"
   ]
  },
  {
   "cell_type": "markdown",
   "metadata": {},
   "source": [
    "### impute the data"
   ]
  },
  {
   "cell_type": "markdown",
   "metadata": {},
   "source": [
    "* **`Electrical`**: Electrical: Electrical system\n",
    "* **`MasVnrType`**: Masonry veneer type\n",
    "* **`MasVnrArea`**: Masonry veneer type\n",
    "\n",
    "For the above variables, filling the missing values with the most frequent records"
   ]
  },
  {
   "cell_type": "code",
   "execution_count": 12,
   "metadata": {},
   "outputs": [
    {
     "name": "stdout",
     "output_type": "stream",
     "text": [
      "training Electrical missing 0 , valid Electrical missing 0 , test Electrical missing 0\n",
      "training MasVnrType missing 0 , valid MasVnrType missing 0 , test MasVnrType missing 0\n",
      "training MasVnrArea missing 0 , valid MasVnrArea missing 0 , test MasVnrArea missing 0\n"
     ]
    }
   ],
   "source": [
    "#set the variable list\n",
    "var = [\"Electrical\",\"MasVnrType\",\"MasVnrArea\"]\n",
    "\n",
    "#use loop to fill the missing value with the most frequent records\n",
    "for xs in var:\n",
    "    train[xs] = train[xs].fillna(train[xs].value_counts().index[0])\n",
    "    valid[xs] = valid[xs].fillna(valid[xs].value_counts().index[0])\n",
    "    test[xs] = test[xs].fillna(test[xs].value_counts().index[0])\n",
    "\n",
    "#check the result\n",
    "for xs in var:\n",
    "    print(\"training\", xs, \"missing\",train[xs].isnull().sum(),\n",
    "         \", valid\", xs, \"missing\",valid[xs].isnull().sum(),\n",
    "         \", test\", xs, \"missing\",test[xs].isnull().sum(),)"
   ]
  },
  {
   "cell_type": "markdown",
   "metadata": {},
   "source": [
    "* **`BsmtCond`**: Evaluates the general condition of the basement\n",
    "* **`BsmtQual`**: Evaluates the height of the basement\n",
    "* **`BsmtFinType1`**: Rating of basement finished area\n",
    "* **`BsmtFinType2`**: Rating of basement finished area (if multiple types)\n",
    "* **`BsmtExposure`**: Refers to walkout or garden level walls\n",
    "\n",
    "For the above variables, NA means no basement. Filling missing variables to None."
   ]
  },
  {
   "cell_type": "code",
   "execution_count": 13,
   "metadata": {},
   "outputs": [
    {
     "name": "stdout",
     "output_type": "stream",
     "text": [
      "training BsmtCond missing 0 , valid BsmtCond missing 0 , test BsmtCond missing 0\n",
      "training BsmtQual missing 0 , valid BsmtQual missing 0 , test BsmtQual missing 0\n",
      "training BsmtFinType1 missing 0 , valid BsmtFinType1 missing 0 , test BsmtFinType1 missing 0\n",
      "training BsmtFinType2 missing 0 , valid BsmtFinType2 missing 0 , test BsmtFinType2 missing 0\n",
      "training BsmtExposure missing 0 , valid BsmtExposure missing 0 , test BsmtExposure missing 0\n"
     ]
    }
   ],
   "source": [
    "# since NA means there is no basement, we change \"NA\" to \"None\"\n",
    "\n",
    "#set variable name list\n",
    "var = [\"BsmtCond\",\"BsmtQual\",\"BsmtFinType1\",\"BsmtFinType2\",\"BsmtExposure\"]\n",
    "\n",
    "#use loop to change data\n",
    "for xs in var:\n",
    "    train[xs] = train[xs].fillna(value = \"None\")\n",
    "    valid[xs] = valid[xs].fillna(value = \"None\")\n",
    "    test[xs] = test[xs].fillna(value = \"None\")\n",
    "    \n",
    "#double check result\n",
    "for xs in var:\n",
    "    print(\"training\", xs, \"missing\",train[xs].isnull().sum(),\n",
    "         \", valid\", xs, \"missing\",valid[xs].isnull().sum(),\n",
    "         \", test\", xs, \"missing\",test[xs].isnull().sum(),)"
   ]
  },
  {
   "cell_type": "markdown",
   "metadata": {},
   "source": [
    "* **`GarageCond`**: Evaluates the Garage condition\n",
    "* **`GarageQual`**: Garage quality\n",
    "* **`GarageFinish`**: Interior finish of the garage\n",
    "* **`GarageType`**: Garage location\n",
    "* **`GarageYrBlt`**: Year garage was built\n",
    "\n",
    "For \"GarageCond\",\"GarageQual\",\"GarageFinish\",\"GarageType\", NA means no garages."
   ]
  },
  {
   "cell_type": "code",
   "execution_count": 14,
   "metadata": {},
   "outputs": [
    {
     "name": "stdout",
     "output_type": "stream",
     "text": [
      "training GarageCond missing 0 , valid GarageCond missing 0 , test GarageCond missing 0\n",
      "training GarageQual missing 0 , valid GarageQual missing 0 , test GarageQual missing 0\n",
      "training GarageFinish missing 0 , valid GarageFinish missing 0 , test GarageFinish missing 0\n",
      "training GarageType missing 0 , valid GarageType missing 0 , test GarageType missing 0\n",
      "training GarageYrBlt missing 0 , valid GarageYrBlt missing 0 , test GarageYrBlt missing 0\n"
     ]
    }
   ],
   "source": [
    "#set variable name list\n",
    "var = [\"GarageCond\",\"GarageQual\",\"GarageFinish\",\"GarageType\"]\n",
    "\n",
    "#fill missing variables in var with None\n",
    "for xs in var:\n",
    "    train[xs] = train[xs].fillna(value = \"None\")\n",
    "    valid[xs] = valid[xs].fillna(value = \"None\")\n",
    "    test[xs] = test[xs].fillna(value = \"None\")\n",
    "    \n",
    "#filling \"GarageYrBlt\" with \"0\"\n",
    "train['GarageYrBlt'] = train['GarageYrBlt'].fillna(value = 0)\n",
    "valid['GarageYrBlt'] = valid['GarageYrBlt'].fillna(value = 0)\n",
    "test['GarageYrBlt'] = test['GarageYrBlt'].fillna(value = 0)\n",
    "\n",
    "#double check result\n",
    "var.append(\"GarageYrBlt\")\n",
    "for xs in var:\n",
    "    print(\"training\", xs, \"missing\",train[xs].isnull().sum(),\n",
    "         \", valid\", xs, \"missing\",valid[xs].isnull().sum(),\n",
    "         \", test\", xs, \"missing\",test[xs].isnull().sum(),)"
   ]
  },
  {
   "cell_type": "markdown",
   "metadata": {},
   "source": [
    "### remove Outlier"
   ]
  },
  {
   "cell_type": "code",
   "execution_count": 15,
   "metadata": {},
   "outputs": [],
   "source": [
    "var = list(train.columns)\n",
    "var.remove(\"Id\")\n",
    "var.remove(\"SalePrice\")"
   ]
  },
  {
   "cell_type": "markdown",
   "metadata": {},
   "source": [
    "#### check pearson correlation"
   ]
  },
  {
   "cell_type": "code",
   "execution_count": 16,
   "metadata": {},
   "outputs": [
    {
     "data": {
      "text/html": [
       "<div>\n",
       "<style scoped>\n",
       "    .dataframe tbody tr th:only-of-type {\n",
       "        vertical-align: middle;\n",
       "    }\n",
       "\n",
       "    .dataframe tbody tr th {\n",
       "        vertical-align: top;\n",
       "    }\n",
       "\n",
       "    .dataframe thead th {\n",
       "        text-align: right;\n",
       "    }\n",
       "</style>\n",
       "<table border=\"1\" class=\"dataframe\">\n",
       "  <thead>\n",
       "    <tr style=\"text-align: right;\">\n",
       "      <th></th>\n",
       "      <th>Pearson Correlation Coefficient</th>\n",
       "    </tr>\n",
       "  </thead>\n",
       "  <tbody>\n",
       "    <tr>\n",
       "      <th>OverallQual</th>\n",
       "      <td>0.792147</td>\n",
       "    </tr>\n",
       "    <tr>\n",
       "      <th>GrLivArea</th>\n",
       "      <td>0.711104</td>\n",
       "    </tr>\n",
       "    <tr>\n",
       "      <th>GarageCars</th>\n",
       "      <td>0.642622</td>\n",
       "    </tr>\n",
       "    <tr>\n",
       "      <th>GarageArea</th>\n",
       "      <td>0.621131</td>\n",
       "    </tr>\n",
       "    <tr>\n",
       "      <th>TotalBsmtSF</th>\n",
       "      <td>0.611906</td>\n",
       "    </tr>\n",
       "    <tr>\n",
       "      <th>1stFlrSF</th>\n",
       "      <td>0.608325</td>\n",
       "    </tr>\n",
       "    <tr>\n",
       "      <th>FullBath</th>\n",
       "      <td>0.569459</td>\n",
       "    </tr>\n",
       "    <tr>\n",
       "      <th>TotRmsAbvGrd</th>\n",
       "      <td>0.539120</td>\n",
       "    </tr>\n",
       "    <tr>\n",
       "      <th>YearBuilt</th>\n",
       "      <td>0.517244</td>\n",
       "    </tr>\n",
       "    <tr>\n",
       "      <th>YearRemodAdd</th>\n",
       "      <td>0.510015</td>\n",
       "    </tr>\n",
       "  </tbody>\n",
       "</table>\n",
       "</div>"
      ],
      "text/plain": [
       "              Pearson Correlation Coefficient\n",
       "OverallQual                          0.792147\n",
       "GrLivArea                            0.711104\n",
       "GarageCars                           0.642622\n",
       "GarageArea                           0.621131\n",
       "TotalBsmtSF                          0.611906\n",
       "1stFlrSF                             0.608325\n",
       "FullBath                             0.569459\n",
       "TotRmsAbvGrd                         0.539120\n",
       "YearBuilt                            0.517244\n",
       "YearRemodAdd                         0.510015"
      ]
     },
     "execution_count": 16,
     "metadata": {},
     "output_type": "execute_result"
    }
   ],
   "source": [
    "#check pearson correlation\n",
    "y_name = \"SalePrice\"\n",
    "corr = pd.DataFrame(train[var + [y_name]].corr()[y_name]).iloc[:-1]\n",
    "corr.columns = ['Pearson Correlation Coefficient']\n",
    "corr.sort_values(by ='Pearson Correlation Coefficient',ascending = False ).head(10)"
   ]
  },
  {
   "cell_type": "markdown",
   "metadata": {},
   "source": [
    "#### OverallQual"
   ]
  },
  {
   "cell_type": "code",
   "execution_count": 17,
   "metadata": {
    "scrolled": false
   },
   "outputs": [
    {
     "name": "stdout",
     "output_type": "stream",
     "text": [
      "        Id  OverallQual\n",
      "533    534            1\n",
      "636    637            2\n",
      "916    917            2\n",
      "1100  1101            2\n"
     ]
    },
    {
     "data": {
      "image/png": "[encoded data removed]",
      "text/plain": [
       "<matplotlib.figure.Figure at 0x1d97346d5f8>"
      ]
     },
     "metadata": {
      "needs_background": "light"
     },
     "output_type": "display_data"
    }
   ],
   "source": [
    "#scatter plot of Overall\n",
    "plt.scatter(y = train[\"SalePrice\"],x= train[\"OverallQual\"])\n",
    "\n",
    "#find the index of outlier\n",
    "print(train[[\"Id\",\"OverallQual\"]].loc[train[\"OverallQual\"]<3])\n",
    "\n",
    "#store the outlier\n",
    "out_OQ = list(train.loc[train[\"OverallQual\"]<3].index)"
   ]
  },
  {
   "cell_type": "markdown",
   "metadata": {},
   "source": [
    "#### GrLivArea"
   ]
  },
  {
   "cell_type": "code",
   "execution_count": 18,
   "metadata": {},
   "outputs": [
    {
     "name": "stdout",
     "output_type": "stream",
     "text": [
      "        Id  GrLivArea\n",
      "523    524       4676\n",
      "691    692       4316\n",
      "1182  1183       4476\n",
      "1298  1299       5642\n"
     ]
    },
    {
     "data": {
      "image/png": "[encoded data removed]",
      "text/plain": [
       "<matplotlib.figure.Figure at 0x1d97346d860>"
      ]
     },
     "metadata": {
      "needs_background": "light"
     },
     "output_type": "display_data"
    }
   ],
   "source": [
    "#scatter plot of GrLivArea\n",
    "plt.scatter(y = train[\"SalePrice\"],x= train[\"GrLivArea\"])\n",
    "\n",
    "#find the index of outlier\n",
    "print(train[[\"Id\",\"GrLivArea\"]].loc[train[\"GrLivArea\"]>4000])\n",
    "\n",
    "#store the outlier\n",
    "out_GA = list(train[\"Id\"].loc[train[\"GrLivArea\"]>4000].index)"
   ]
  },
  {
   "cell_type": "markdown",
   "metadata": {},
   "source": [
    "#### GarageCars"
   ]
  },
  {
   "cell_type": "code",
   "execution_count": 19,
   "metadata": {},
   "outputs": [
    {
     "name": "stdout",
     "output_type": "stream",
     "text": [
      "        Id  SalePrice\n",
      "691    692     755000\n",
      "1182  1183     745000\n"
     ]
    },
    {
     "data": {
      "image/png": "[encoded data removed]",
      "text/plain": [
       "<matplotlib.figure.Figure at 0x1d9738d0128>"
      ]
     },
     "metadata": {
      "needs_background": "light"
     },
     "output_type": "display_data"
    }
   ],
   "source": [
    "#scatter plot of GarageCars\n",
    "plt.scatter(y = train[\"SalePrice\"],x= train[\"GarageCars\"])\n",
    "\n",
    "#find the index of outlier\n",
    "print(train[[\"Id\",\"SalePrice\"]].loc[train[\"SalePrice\"]>700000])\n",
    "\n",
    "#store the outlier\n",
    "out_GC = list(train[\"Id\"].loc[train[\"SalePrice\"]>700000].index)"
   ]
  },
  {
   "cell_type": "markdown",
   "metadata": {},
   "source": [
    "#### GarageArea"
   ]
  },
  {
   "cell_type": "code",
   "execution_count": 20,
   "metadata": {},
   "outputs": [
    {
     "name": "stdout",
     "output_type": "stream",
     "text": [
      "        Id  SalePrice\n",
      "581    582     253293\n",
      "825    826     385000\n",
      "1061  1062      81000\n",
      "1298  1299     160000\n"
     ]
    },
    {
     "data": {
      "image/png": "[encoded data removed]",
      "text/plain": [
       "<matplotlib.figure.Figure at 0x1d973931cf8>"
      ]
     },
     "metadata": {
      "needs_background": "light"
     },
     "output_type": "display_data"
    }
   ],
   "source": [
    "#scatter plot of GarageArea\n",
    "plt.scatter(y = train[\"SalePrice\"],x= train[\"GarageArea\"])\n",
    "\n",
    "#find the index of outlier\n",
    "print(train[[\"Id\",\"SalePrice\"]].loc[train[\"GarageArea\"]>1200])\n",
    "\n",
    "#store the outlier      \n",
    "out_GA2 = list(train[\"Id\"].loc[train[\"GarageArea\"]>1200].index)"
   ]
  },
  {
   "cell_type": "markdown",
   "metadata": {},
   "source": [
    "#### TotalBsmtSF"
   ]
  },
  {
   "cell_type": "code",
   "execution_count": 21,
   "metadata": {},
   "outputs": [
    {
     "name": "stdout",
     "output_type": "stream",
     "text": [
      "        Id  SalePrice\n",
      "332    333     284000\n",
      "440    441     555000\n",
      "523    524     184750\n",
      "1298  1299     160000\n"
     ]
    },
    {
     "data": {
      "image/png": "[encoded data removed]",
      "text/plain": [
       "<matplotlib.figure.Figure at 0x1d97396f358>"
      ]
     },
     "metadata": {
      "needs_background": "light"
     },
     "output_type": "display_data"
    }
   ],
   "source": [
    "#scatter plot\n",
    "plt.scatter(y = train[\"SalePrice\"],x= train[\"TotalBsmtSF\"])\n",
    "\n",
    "#show the outlier Id\n",
    "print(train[[\"Id\",\"SalePrice\"]].loc[train[\"TotalBsmtSF\"]>3000])\n",
    "\n",
    "#save the id\n",
    "out_TB = list(train[\"Id\"].loc[train[\"TotalBsmtSF\"]>3000].index)"
   ]
  },
  {
   "cell_type": "markdown",
   "metadata": {},
   "source": [
    "#### 1stFlrSF"
   ]
  },
  {
   "cell_type": "code",
   "execution_count": 22,
   "metadata": {},
   "outputs": [
    {
     "name": "stdout",
     "output_type": "stream",
     "text": [
      "        Id  SalePrice\n",
      "1298  1299     160000\n"
     ]
    },
    {
     "data": {
      "image/png": "[encoded data removed]",
      "text/plain": [
       "<matplotlib.figure.Figure at 0x1d973a05160>"
      ]
     },
     "metadata": {
      "needs_background": "light"
     },
     "output_type": "display_data"
    }
   ],
   "source": [
    "#scatter plot\n",
    "plt.scatter(y = train[\"SalePrice\"],x= train[\"1stFlrSF\"])\n",
    "\n",
    "#show the outlier Id\n",
    "print(train[[\"Id\",\"SalePrice\"]].loc[train[\"1stFlrSF\"]>4000])\n",
    "\n",
    "#save the id\n",
    "out_1SF = list(train[\"Id\"].loc[train[\"1stFlrSF\"]>4000].index)"
   ]
  },
  {
   "cell_type": "markdown",
   "metadata": {},
   "source": [
    "#### YearBuilt"
   ]
  },
  {
   "cell_type": "code",
   "execution_count": 23,
   "metadata": {},
   "outputs": [
    {
     "name": "stdout",
     "output_type": "stream",
     "text": [
      "      Id  SalePrice\n",
      "185  186     475000\n"
     ]
    },
    {
     "data": {
      "image/png": "[encoded data removed]",
      "text/plain": [
       "<matplotlib.figure.Figure at 0x1d9739f7940>"
      ]
     },
     "metadata": {
      "needs_background": "light"
     },
     "output_type": "display_data"
    }
   ],
   "source": [
    "plt.scatter(y = train[\"SalePrice\"],x= train[\"YearBuilt\"])\n",
    "\n",
    "out = train[(train[\"YearBuilt\"]<1900) & (train[\"SalePrice\"]>400000)]\n",
    "print(out[[\"Id\",\"SalePrice\"]])\n",
    "\n",
    "out_YB = list(out.index)"
   ]
  },
  {
   "cell_type": "code",
   "execution_count": 24,
   "metadata": {},
   "outputs": [
    {
     "name": "stdout",
     "output_type": "stream",
     "text": [
      "[533, 636, 916, 1100, 523, 691, 1182, 1298, 581, 825, 1061, 1298, 691, 1182, 332, 440, 523, 1298, 1298, 185]\n"
     ]
    },
    {
     "data": {
      "text/plain": [
       "(1303, 74)"
      ]
     },
     "execution_count": 24,
     "metadata": {},
     "output_type": "execute_result"
    }
   ],
   "source": [
    "#outliers\n",
    "out = []\n",
    "names = [out_OQ, out_GA,out_GA2,out_GC,out_TB,out_1SF,out_YB]\n",
    "for xs in names:\n",
    "    for n in xs:\n",
    "        out.append(n)\n",
    "\n",
    "#print the outlier id\n",
    "print(out)\n",
    "\n",
    "#remove all outliers\n",
    "train = train.drop(out,axis = 0)\n",
    "\n",
    "#double check the shape\n",
    "train.shape"
   ]
  },
  {
   "cell_type": "markdown",
   "metadata": {},
   "source": [
    "## 2. Train Models"
   ]
  },
  {
   "cell_type": "markdown",
   "metadata": {},
   "source": [
    "##### boxplot the SalePrice"
   ]
  },
  {
   "cell_type": "code",
   "execution_count": 25,
   "metadata": {},
   "outputs": [
    {
     "data": {
      "text/plain": [
       "{'boxes': [<matplotlib.lines.Line2D at 0x1d974aea8d0>],\n",
       " 'caps': [<matplotlib.lines.Line2D at 0x1d974af4320>,\n",
       "  <matplotlib.lines.Line2D at 0x1d974af4748>],\n",
       " 'fliers': [<matplotlib.lines.Line2D at 0x1d974af4f98>],\n",
       " 'means': [],\n",
       " 'medians': [<matplotlib.lines.Line2D at 0x1d974af4b70>],\n",
       " 'whiskers': [<matplotlib.lines.Line2D at 0x1d974aeaa20>,\n",
       "  <matplotlib.lines.Line2D at 0x1d974aeaeb8>]}"
      ]
     },
     "execution_count": 25,
     "metadata": {},
     "output_type": "execute_result"
    },
    {
     "data": {
      "image/png": "[encoded data removed]",
      "text/plain": [
       "<matplotlib.figure.Figure at 0x1d973ad43c8>"
      ]
     },
     "metadata": {
      "needs_background": "light"
     },
     "output_type": "display_data"
    }
   ],
   "source": [
    "plt.boxplot(train[\"SalePrice\"])"
   ]
  },
  {
   "cell_type": "markdown",
   "metadata": {},
   "source": [
    "#### log transform of Y variable -- SalePrice"
   ]
  },
  {
   "cell_type": "code",
   "execution_count": 26,
   "metadata": {},
   "outputs": [
    {
     "name": "stdout",
     "output_type": "stream",
     "text": [
      "1    12.109011\n",
      "2    12.317167\n",
      "3    11.849398\n",
      "4    12.429216\n",
      "5    11.870600\n",
      "Name: SalePrice, dtype: float64\n"
     ]
    },
    {
     "data": {
      "image/png": "[encoded data removed]",
      "text/plain": [
       "<matplotlib.figure.Figure at 0x1d973ad4cc0>"
      ]
     },
     "metadata": {
      "needs_background": "light"
     },
     "output_type": "display_data"
    }
   ],
   "source": [
    "#check log transformation on the \"SalePrice\" -looks good\n",
    "train[\"SalePrice\"].apply(np.log).hist()\n",
    "#valid[\"SalePrice\"].apply(np.log).hist()\n",
    "\n",
    "#apply log transformation\n",
    "train[\"SalePrice\"] = np.log(train[\"SalePrice\"])\n",
    "valid[\"SalePrice\"] = np.log(valid[\"SalePrice\"])\n",
    "print(train[\"SalePrice\"].head())"
   ]
  },
  {
   "cell_type": "code",
   "execution_count": 27,
   "metadata": {},
   "outputs": [
    {
     "data": {
      "text/plain": [
       "{'boxes': [<matplotlib.lines.Line2D at 0x1d974bccbe0>],\n",
       " 'caps': [<matplotlib.lines.Line2D at 0x1d974bd3630>,\n",
       "  <matplotlib.lines.Line2D at 0x1d974bd3a58>],\n",
       " 'fliers': [<matplotlib.lines.Line2D at 0x1d974bda2e8>],\n",
       " 'means': [],\n",
       " 'medians': [<matplotlib.lines.Line2D at 0x1d974bd3e80>],\n",
       " 'whiskers': [<matplotlib.lines.Line2D at 0x1d974bccd30>,\n",
       "  <matplotlib.lines.Line2D at 0x1d974bd3208>]}"
      ]
     },
     "execution_count": 27,
     "metadata": {},
     "output_type": "execute_result"
    },
    {
     "data": {
      "image/png": "[encoded data removed]",
      "text/plain": [
       "<matplotlib.figure.Figure at 0x1d973a6a400>"
      ]
     },
     "metadata": {
      "needs_background": "light"
     },
     "output_type": "display_data"
    }
   ],
   "source": [
    "#check the boxplot\n",
    "plt.boxplot(train[\"SalePrice\"])"
   ]
  },
  {
   "cell_type": "code",
   "execution_count": 28,
   "metadata": {},
   "outputs": [],
   "source": [
    "#remove the outlier\n",
    "out = train[train[\"SalePrice\"]<10.75].index\n",
    "train.drop(out,axis=0,inplace = True)"
   ]
  },
  {
   "cell_type": "markdown",
   "metadata": {},
   "source": [
    "### create dummy variables"
   ]
  },
  {
   "cell_type": "code",
   "execution_count": 29,
   "metadata": {},
   "outputs": [],
   "source": [
    "#deep copy the data frame\n",
    "train_glm = train.copy()\n",
    "valid_glm = valid.copy()\n",
    "test_glm = test.copy()\n",
    "\n",
    "# Categorical boolean mask\n",
    "mask = train_glm.dtypes==object\n",
    "\n",
    "# filter categorical columns using mask and turn it into a list\n",
    "cats = train_glm.columns[mask].tolist()"
   ]
  },
  {
   "cell_type": "markdown",
   "metadata": {},
   "source": [
    "#### one-hot encode vategorical variables"
   ]
  },
  {
   "cell_type": "code",
   "execution_count": 30,
   "metadata": {},
   "outputs": [
    {
     "name": "stdout",
     "output_type": "stream",
     "text": [
      "(1301, 224)\n",
      "(143, 224)\n",
      "True\n",
      "(1301, 222)\n",
      "(143, 222)\n",
      "True\n",
      "(1301, 222)\n",
      "(143, 222)\n",
      "(1459, 222)\n",
      "True\n",
      "(1301, 223)\n",
      "(143, 223)\n"
     ]
    }
   ],
   "source": [
    "#one-hot encode training frame\n",
    "train_glm = pd.get_dummies(train_glm)\n",
    "train_SP = train_glm[\"SalePrice\"]\n",
    "\n",
    "#one-hot encode test frame\n",
    "valid_glm = pd.get_dummies(valid_glm)\n",
    "valid_SP = valid_glm[\"SalePrice\"]\n",
    "\n",
    "\n",
    "#keep only the same new columns in the encoded new frames\n",
    "train_diff_cols = list(set(train_glm.columns) - set(valid_glm.columns))\n",
    "valid_diff_cols = list(set(valid_glm.columns) - set(train_glm.columns))\n",
    "train_glm.drop(train_diff_cols, axis=1, inplace=True)\n",
    "valid_glm.drop(valid_diff_cols, axis=1, inplace=True)\n",
    "\n",
    "\n",
    "#check that columns are actually the same in both frames\n",
    "print(train_glm.shape)\n",
    "print(valid_glm.shape)\n",
    "print(all(train_glm.columns == valid_glm.columns))\n",
    "\n",
    "#one-hot encode test frame\n",
    "test_glm = pd.get_dummies(test_glm)\n",
    "\n",
    "#keep only the same new columns in the encoded new frames\n",
    "train_diff_cols = list(set(train_glm.columns)-set(test_glm.columns))\n",
    "train_glm.drop(train_diff_cols, axis=1, inplace=True)\n",
    "valid_glm.drop(train_diff_cols, axis=1, inplace=True)\n",
    "\n",
    "# check that columns are actually the same in encoded train and valid frames\n",
    "print(train_glm.shape)\n",
    "print(valid_glm.shape)\n",
    "print(all(train_glm.columns == valid_glm.columns))\n",
    "\n",
    "#remove columns in encoded test not in encoded train and vals\n",
    "train_diff_cols = list(set(test_glm.columns)-set(train_glm.columns))\n",
    "test_glm.drop(train_diff_cols, axis = 1, inplace = True)\n",
    "\n",
    "#check that columns are actually the same in all encoded frames\n",
    "print(train_glm.shape)\n",
    "print(valid_glm.shape)\n",
    "print(test_glm.shape)\n",
    "print(all(train_glm.columns == valid_glm.columns)\n",
    "      and all(valid_glm.columns == test_glm.columns))\n",
    "\n",
    "#add the SalePrice column to the train and valid\n",
    "train_glm[\"SalePrice\"] = train_SP\n",
    "valid_glm[\"SalePrice\"] = valid_SP\n",
    "\n",
    "#check the shape\n",
    "print(train_glm.shape)\n",
    "print(valid_glm.shape)"
   ]
  },
  {
   "cell_type": "markdown",
   "metadata": {},
   "source": [
    "### 2.1 GLM feature selection"
   ]
  },
  {
   "cell_type": "markdown",
   "metadata": {},
   "source": [
    "#### assign model roles"
   ]
  },
  {
   "cell_type": "code",
   "execution_count": 31,
   "metadata": {},
   "outputs": [
    {
     "name": "stdout",
     "output_type": "stream",
     "text": [
      "y_name = SalePrice\n",
      "\n",
      "x_names = ['MSSubClass', 'LotArea', 'OverallQual', 'OverallCond', 'YearBuilt', 'YearRemodAdd', 'MasVnrArea', 'BsmtFinSF1', 'BsmtFinSF2', 'BsmtUnfSF', 'TotalBsmtSF', '1stFlrSF', '2ndFlrSF', 'LowQualFinSF', 'GrLivArea', 'BsmtFullBath', 'BsmtHalfBath', 'FullBath', 'HalfBath', 'BedroomAbvGr', 'KitchenAbvGr', 'TotRmsAbvGrd', 'Fireplaces', 'GarageYrBlt', 'GarageCars', 'GarageArea', 'WoodDeckSF', 'OpenPorchSF', 'EnclosedPorch', '3SsnPorch', 'ScreenPorch', 'PoolArea', 'MiscVal', 'MoSold', 'YrSold', 'MSZoning_C (all)', 'MSZoning_FV', 'MSZoning_RH', 'MSZoning_RL', 'MSZoning_RM', 'Street_Grvl', 'Street_Pave', 'LotShape_IR1', 'LotShape_IR2', 'LotShape_IR3', 'LotShape_Reg', 'LandContour_Bnk', 'LandContour_HLS', 'LandContour_Low', 'LandContour_Lvl', 'LotConfig_Corner', 'LotConfig_CulDSac', 'LotConfig_FR2', 'LotConfig_Inside', 'LandSlope_Gtl', 'LandSlope_Mod', 'LandSlope_Sev', 'Neighborhood_Blmngtn', 'Neighborhood_BrkSide', 'Neighborhood_ClearCr', 'Neighborhood_CollgCr', 'Neighborhood_Crawfor', 'Neighborhood_Edwards', 'Neighborhood_Gilbert', 'Neighborhood_IDOTRR', 'Neighborhood_MeadowV', 'Neighborhood_Mitchel', 'Neighborhood_NAmes', 'Neighborhood_NPkVill', 'Neighborhood_NWAmes', 'Neighborhood_NoRidge', 'Neighborhood_NridgHt', 'Neighborhood_OldTown', 'Neighborhood_SWISU', 'Neighborhood_Sawyer', 'Neighborhood_SawyerW', 'Neighborhood_Somerst', 'Neighborhood_StoneBr', 'Neighborhood_Timber', 'Neighborhood_Veenker', 'Condition1_Artery', 'Condition1_Feedr', 'Condition1_Norm', 'Condition1_PosN', 'Condition1_RRAe', 'Condition2_Norm', 'BldgType_1Fam', 'BldgType_2fmCon', 'BldgType_Duplex', 'BldgType_Twnhs', 'BldgType_TwnhsE', 'HouseStyle_1.5Fin', 'HouseStyle_1.5Unf', 'HouseStyle_1Story', 'HouseStyle_2.5Unf', 'HouseStyle_2Story', 'HouseStyle_SFoyer', 'HouseStyle_SLvl', 'RoofStyle_Flat', 'RoofStyle_Gable', 'RoofStyle_Hip', 'RoofMatl_CompShg', 'RoofMatl_WdShngl', 'Exterior1st_AsbShng', 'Exterior1st_BrkFace', 'Exterior1st_CemntBd', 'Exterior1st_HdBoard', 'Exterior1st_MetalSd', 'Exterior1st_Plywood', 'Exterior1st_VinylSd', 'Exterior1st_Wd Sdng', 'Exterior1st_WdShing', 'Exterior2nd_AsbShng', 'Exterior2nd_AsphShn', 'Exterior2nd_Brk Cmn', 'Exterior2nd_BrkFace', 'Exterior2nd_CmentBd', 'Exterior2nd_HdBoard', 'Exterior2nd_ImStucc', 'Exterior2nd_MetalSd', 'Exterior2nd_Plywood', 'Exterior2nd_Stone', 'Exterior2nd_Stucco', 'Exterior2nd_VinylSd', 'Exterior2nd_Wd Sdng', 'Exterior2nd_Wd Shng', 'MasVnrType_BrkCmn', 'MasVnrType_BrkFace', 'MasVnrType_None', 'MasVnrType_Stone', 'ExterQual_Ex', 'ExterQual_Fa', 'ExterQual_Gd', 'ExterQual_TA', 'ExterCond_Fa', 'ExterCond_Gd', 'ExterCond_TA', 'Foundation_BrkTil', 'Foundation_CBlock', 'Foundation_PConc', 'Foundation_Slab', 'Foundation_Wood', 'BsmtQual_Ex', 'BsmtQual_Fa', 'BsmtQual_Gd', 'BsmtQual_None', 'BsmtQual_TA', 'BsmtCond_Fa', 'BsmtCond_Gd', 'BsmtCond_None', 'BsmtCond_Po', 'BsmtCond_TA', 'BsmtExposure_Av', 'BsmtExposure_Gd', 'BsmtExposure_Mn', 'BsmtExposure_No', 'BsmtExposure_None', 'BsmtFinType1_ALQ', 'BsmtFinType1_BLQ', 'BsmtFinType1_GLQ', 'BsmtFinType1_LwQ', 'BsmtFinType1_None', 'BsmtFinType1_Rec', 'BsmtFinType1_Unf', 'BsmtFinType2_BLQ', 'BsmtFinType2_GLQ', 'BsmtFinType2_LwQ', 'BsmtFinType2_None', 'BsmtFinType2_Rec', 'BsmtFinType2_Unf', 'Heating_GasA', 'Heating_GasW', 'Heating_Grav', 'Heating_Wall', 'HeatingQC_Ex', 'HeatingQC_Fa', 'HeatingQC_Gd', 'HeatingQC_TA', 'CentralAir_N', 'CentralAir_Y', 'Electrical_FuseA', 'Electrical_FuseF', 'Electrical_SBrkr', 'KitchenQual_Ex', 'KitchenQual_Fa', 'KitchenQual_Gd', 'KitchenQual_TA', 'Functional_Maj1', 'Functional_Maj2', 'Functional_Min2', 'Functional_Typ', 'GarageType_2Types', 'GarageType_Attchd', 'GarageType_Basment', 'GarageType_BuiltIn', 'GarageType_Detchd', 'GarageType_None', 'GarageFinish_Fin', 'GarageFinish_None', 'GarageFinish_RFn', 'GarageFinish_Unf', 'GarageQual_Fa', 'GarageQual_Gd', 'GarageQual_None', 'GarageQual_Po', 'GarageQual_TA', 'GarageCond_Fa', 'GarageCond_None', 'GarageCond_Po', 'GarageCond_TA', 'PavedDrive_N', 'PavedDrive_P', 'PavedDrive_Y', 'SaleType_COD', 'SaleType_Con', 'SaleType_New', 'SaleType_WD', 'SaleCondition_Abnorml', 'SaleCondition_Family', 'SaleCondition_Normal', 'SaleCondition_Partial']\n"
     ]
    }
   ],
   "source": [
    "#assign input and response variables\n",
    "y_name = \"SalePrice\"\n",
    "x_names = [name for name in train_glm if name not in [y_name, \"Id\"]]\n",
    "\n",
    "print('y_name =', y_name)\n",
    "print()\n",
    "print('x_names =', x_names)"
   ]
  },
  {
   "cell_type": "markdown",
   "metadata": {},
   "source": [
    "#### create h2o glm model"
   ]
  },
  {
   "cell_type": "code",
   "execution_count": 32,
   "metadata": {},
   "outputs": [],
   "source": [
    "#set the hyper parameter\n",
    "hyper_param = {'alpha': [0.01, 0.25, 0.5, 0.75, 0.99] }\n",
    "\n",
    "#create model and train it\n",
    "grid = H2OGridSearch(H2OGeneralizedLinearEstimator(family=\"gaussian\",link = \"log\",lambda_search=True,seed=SEED),\n",
    "        hyper_params=hyper_param)\n",
    "\n",
    "grid.train(x= x_names, y=y_name,training_frame=h2o.H2OFrame(train_glm), validation_frame=h2o.H2OFrame(valid_glm))"
   ]
  },
  {
   "cell_type": "markdown",
   "metadata": {},
   "source": [
    "#### display the glm"
   ]
  },
  {
   "cell_type": "code",
   "execution_count": 33,
   "metadata": {
    "scrolled": true
   },
   "outputs": [
    {
     "name": "stdout",
     "output_type": "stream",
     "text": [
      "Model Details\n",
      "=============\n",
      "H2OGeneralizedLinearEstimator :  Generalized Linear Modeling\n",
      "Model Key:  Grid_GLM_Key_Frame__upload_aa26fd4a4bc19de73f4f3ae4213649ca.hex_model_python_1593204071312_1_model_5\n",
      "\n",
      "\n",
      "GLM Model: summary\n"
     ]
    },
    {
     "data": {
      "text/html": [
       "<div>\n",
       "<style scoped>\n",
       "    .dataframe tbody tr th:only-of-type {\n",
       "        vertical-align: middle;\n",
       "    }\n",
       "\n",
       "    .dataframe tbody tr th {\n",
       "        vertical-align: top;\n",
       "    }\n",
       "\n",
       "    .dataframe thead th {\n",
       "        text-align: right;\n",
       "    }\n",
       "</style>\n",
       "<table border=\"1\" class=\"dataframe\">\n",
       "  <thead>\n",
       "    <tr style=\"text-align: right;\">\n",
       "      <th></th>\n",
       "      <th></th>\n",
       "      <th>family</th>\n",
       "      <th>link</th>\n",
       "      <th>regularization</th>\n",
       "      <th>lambda_search</th>\n",
       "      <th>number_of_predictors_total</th>\n",
       "      <th>number_of_active_predictors</th>\n",
       "      <th>number_of_iterations</th>\n",
       "      <th>training_frame</th>\n",
       "    </tr>\n",
       "  </thead>\n",
       "  <tbody>\n",
       "    <tr>\n",
       "      <th>0</th>\n",
       "      <td></td>\n",
       "      <td>gaussian</td>\n",
       "      <td>log</td>\n",
       "      <td>Elastic Net (alpha = 0.99, lambda = 0.03769 )</td>\n",
       "      <td>nlambda = 100, lambda.max = 3.7692, lambda.min = 0.03769, lambda.1...</td>\n",
       "      <td>221</td>\n",
       "      <td>96</td>\n",
       "      <td>157</td>\n",
       "      <td>Key_Frame__upload_aa26fd4a4bc19de73f4f3ae4213649ca.hex</td>\n",
       "    </tr>\n",
       "  </tbody>\n",
       "</table>\n",
       "</div>"
      ],
      "text/plain": [
       "       family link                                 regularization  \\\n",
       "0    gaussian  log  Elastic Net (alpha = 0.99, lambda = 0.03769 )   \n",
       "\n",
       "                                                           lambda_search  \\\n",
       "0  nlambda = 100, lambda.max = 3.7692, lambda.min = 0.03769, lambda.1...   \n",
       "\n",
       "   number_of_predictors_total number_of_active_predictors  \\\n",
       "0                         221                          96   \n",
       "\n",
       "   number_of_iterations  \\\n",
       "0                   157   \n",
       "\n",
       "                                           training_frame  \n",
       "0  Key_Frame__upload_aa26fd4a4bc19de73f4f3ae4213649ca.hex  "
      ]
     },
     "metadata": {},
     "output_type": "display_data"
    },
    {
     "name": "stdout",
     "output_type": "stream",
     "text": [
      "\n",
      "\n",
      "ModelMetricsRegressionGLM: glm\n",
      "** Reported on train data. **\n",
      "\n",
      "MSE: 0.009326573775763559\n",
      "RMSE: 0.09657418793737568\n",
      "MAE: 0.06868535722103537\n",
      "RMSLE: 0.007502375965481947\n",
      "R^2: 0.936254718648887\n",
      "Mean Residual Deviance: 0.009326573775763559\n",
      "Null degrees of freedom: 1300\n",
      "Residual degrees of freedom: 1204\n",
      "Null deviance: 190.3493439058352\n",
      "Residual deviance: 12.133872482268389\n",
      "AIC: -2193.950649784971\n",
      "\n",
      "ModelMetricsRegressionGLM: glm\n",
      "** Reported on validation data. **\n",
      "\n",
      "MSE: 0.013077049196456868\n",
      "RMSE: 0.11435492641970817\n",
      "MAE: 0.07923917897627974\n",
      "RMSLE: 0.009118717846902054\n",
      "R^2: 0.9179412326095431\n",
      "Mean Residual Deviance: 0.013077049196456868\n",
      "Null degrees of freedom: 142\n",
      "Residual degrees of freedom: 46\n",
      "Null deviance: 22.88329429329091\n",
      "Residual deviance: 1.8700180350933322\n",
      "AIC: -18.359786869176077\n",
      "\n",
      "Scoring History: \n"
     ]
    },
    {
     "data": {
      "text/html": [
       "<div>\n",
       "<style scoped>\n",
       "    .dataframe tbody tr th:only-of-type {\n",
       "        vertical-align: middle;\n",
       "    }\n",
       "\n",
       "    .dataframe tbody tr th {\n",
       "        vertical-align: top;\n",
       "    }\n",
       "\n",
       "    .dataframe thead th {\n",
       "        text-align: right;\n",
       "    }\n",
       "</style>\n",
       "<table border=\"1\" class=\"dataframe\">\n",
       "  <thead>\n",
       "    <tr style=\"text-align: right;\">\n",
       "      <th></th>\n",
       "      <th></th>\n",
       "      <th>timestamp</th>\n",
       "      <th>duration</th>\n",
       "      <th>iteration</th>\n",
       "      <th>lambda</th>\n",
       "      <th>predictors</th>\n",
       "      <th>deviance_train</th>\n",
       "      <th>deviance_test</th>\n",
       "    </tr>\n",
       "  </thead>\n",
       "  <tbody>\n",
       "    <tr>\n",
       "      <th>0</th>\n",
       "      <td></td>\n",
       "      <td>2020-06-26 16:44:49</td>\n",
       "      <td>0.000 sec</td>\n",
       "      <td>1</td>\n",
       "      <td>.38E1</td>\n",
       "      <td>1</td>\n",
       "      <td>0.146310</td>\n",
       "      <td>0.160023</td>\n",
       "    </tr>\n",
       "    <tr>\n",
       "      <th>1</th>\n",
       "      <td></td>\n",
       "      <td>2020-06-26 16:44:49</td>\n",
       "      <td>0.003 sec</td>\n",
       "      <td>3</td>\n",
       "      <td>.36E1</td>\n",
       "      <td>2</td>\n",
       "      <td>0.137675</td>\n",
       "      <td>0.150676</td>\n",
       "    </tr>\n",
       "    <tr>\n",
       "      <th>2</th>\n",
       "      <td></td>\n",
       "      <td>2020-06-26 16:44:49</td>\n",
       "      <td>0.005 sec</td>\n",
       "      <td>5</td>\n",
       "      <td>.34E1</td>\n",
       "      <td>2</td>\n",
       "      <td>0.129809</td>\n",
       "      <td>0.142166</td>\n",
       "    </tr>\n",
       "    <tr>\n",
       "      <th>3</th>\n",
       "      <td></td>\n",
       "      <td>2020-06-26 16:44:49</td>\n",
       "      <td>0.007 sec</td>\n",
       "      <td>7</td>\n",
       "      <td>.33E1</td>\n",
       "      <td>2</td>\n",
       "      <td>0.122649</td>\n",
       "      <td>0.134426</td>\n",
       "    </tr>\n",
       "    <tr>\n",
       "      <th>4</th>\n",
       "      <td></td>\n",
       "      <td>2020-06-26 16:44:49</td>\n",
       "      <td>0.009 sec</td>\n",
       "      <td>9</td>\n",
       "      <td>.31E1</td>\n",
       "      <td>2</td>\n",
       "      <td>0.116131</td>\n",
       "      <td>0.127384</td>\n",
       "    </tr>\n",
       "    <tr>\n",
       "      <th>5</th>\n",
       "      <td></td>\n",
       "      <td>2020-06-26 16:44:49</td>\n",
       "      <td>0.011 sec</td>\n",
       "      <td>11</td>\n",
       "      <td>.3E1</td>\n",
       "      <td>2</td>\n",
       "      <td>0.110198</td>\n",
       "      <td>0.120978</td>\n",
       "    </tr>\n",
       "    <tr>\n",
       "      <th>6</th>\n",
       "      <td></td>\n",
       "      <td>2020-06-26 16:44:49</td>\n",
       "      <td>0.012 sec</td>\n",
       "      <td>13</td>\n",
       "      <td>.29E1</td>\n",
       "      <td>2</td>\n",
       "      <td>0.104796</td>\n",
       "      <td>0.115150</td>\n",
       "    </tr>\n",
       "    <tr>\n",
       "      <th>7</th>\n",
       "      <td></td>\n",
       "      <td>2020-06-26 16:44:49</td>\n",
       "      <td>0.015 sec</td>\n",
       "      <td>15</td>\n",
       "      <td>.27E1</td>\n",
       "      <td>3</td>\n",
       "      <td>0.099470</td>\n",
       "      <td>0.109441</td>\n",
       "    </tr>\n",
       "    <tr>\n",
       "      <th>8</th>\n",
       "      <td></td>\n",
       "      <td>2020-06-26 16:44:49</td>\n",
       "      <td>0.017 sec</td>\n",
       "      <td>17</td>\n",
       "      <td>.26E1</td>\n",
       "      <td>3</td>\n",
       "      <td>0.093795</td>\n",
       "      <td>0.103415</td>\n",
       "    </tr>\n",
       "    <tr>\n",
       "      <th>9</th>\n",
       "      <td></td>\n",
       "      <td>2020-06-26 16:44:49</td>\n",
       "      <td>0.019 sec</td>\n",
       "      <td>19</td>\n",
       "      <td>.25E1</td>\n",
       "      <td>3</td>\n",
       "      <td>0.088634</td>\n",
       "      <td>0.097923</td>\n",
       "    </tr>\n",
       "    <tr>\n",
       "      <th>10</th>\n",
       "      <td></td>\n",
       "      <td>2020-06-26 16:44:49</td>\n",
       "      <td>0.021 sec</td>\n",
       "      <td>21</td>\n",
       "      <td>.24E1</td>\n",
       "      <td>3</td>\n",
       "      <td>0.083937</td>\n",
       "      <td>0.092913</td>\n",
       "    </tr>\n",
       "    <tr>\n",
       "      <th>11</th>\n",
       "      <td></td>\n",
       "      <td>2020-06-26 16:44:49</td>\n",
       "      <td>0.023 sec</td>\n",
       "      <td>23</td>\n",
       "      <td>.23E1</td>\n",
       "      <td>3</td>\n",
       "      <td>0.079663</td>\n",
       "      <td>0.088344</td>\n",
       "    </tr>\n",
       "    <tr>\n",
       "      <th>12</th>\n",
       "      <td></td>\n",
       "      <td>2020-06-26 16:44:49</td>\n",
       "      <td>0.025 sec</td>\n",
       "      <td>25</td>\n",
       "      <td>.22E1</td>\n",
       "      <td>3</td>\n",
       "      <td>0.075773</td>\n",
       "      <td>0.084175</td>\n",
       "    </tr>\n",
       "    <tr>\n",
       "      <th>13</th>\n",
       "      <td></td>\n",
       "      <td>2020-06-26 16:44:49</td>\n",
       "      <td>0.027 sec</td>\n",
       "      <td>27</td>\n",
       "      <td>.21E1</td>\n",
       "      <td>5</td>\n",
       "      <td>0.071963</td>\n",
       "      <td>0.080029</td>\n",
       "    </tr>\n",
       "    <tr>\n",
       "      <th>14</th>\n",
       "      <td></td>\n",
       "      <td>2020-06-26 16:44:49</td>\n",
       "      <td>0.028 sec</td>\n",
       "      <td>29</td>\n",
       "      <td>.2E1</td>\n",
       "      <td>5</td>\n",
       "      <td>0.067825</td>\n",
       "      <td>0.075652</td>\n",
       "    </tr>\n",
       "    <tr>\n",
       "      <th>15</th>\n",
       "      <td></td>\n",
       "      <td>2020-06-26 16:44:49</td>\n",
       "      <td>0.031 sec</td>\n",
       "      <td>31</td>\n",
       "      <td>.19E1</td>\n",
       "      <td>5</td>\n",
       "      <td>0.064058</td>\n",
       "      <td>0.071667</td>\n",
       "    </tr>\n",
       "    <tr>\n",
       "      <th>16</th>\n",
       "      <td></td>\n",
       "      <td>2020-06-26 16:44:49</td>\n",
       "      <td>0.033 sec</td>\n",
       "      <td>33</td>\n",
       "      <td>.18E1</td>\n",
       "      <td>5</td>\n",
       "      <td>0.060629</td>\n",
       "      <td>0.068040</td>\n",
       "    </tr>\n",
       "    <tr>\n",
       "      <th>17</th>\n",
       "      <td></td>\n",
       "      <td>2020-06-26 16:44:49</td>\n",
       "      <td>0.035 sec</td>\n",
       "      <td>35</td>\n",
       "      <td>.17E1</td>\n",
       "      <td>5</td>\n",
       "      <td>0.057508</td>\n",
       "      <td>0.064740</td>\n",
       "    </tr>\n",
       "    <tr>\n",
       "      <th>18</th>\n",
       "      <td></td>\n",
       "      <td>2020-06-26 16:44:49</td>\n",
       "      <td>0.037 sec</td>\n",
       "      <td>37</td>\n",
       "      <td>.16E1</td>\n",
       "      <td>5</td>\n",
       "      <td>0.054666</td>\n",
       "      <td>0.061737</td>\n",
       "    </tr>\n",
       "    <tr>\n",
       "      <th>19</th>\n",
       "      <td></td>\n",
       "      <td>2020-06-26 16:44:49</td>\n",
       "      <td>0.038 sec</td>\n",
       "      <td>39</td>\n",
       "      <td>.16E1</td>\n",
       "      <td>6</td>\n",
       "      <td>0.052059</td>\n",
       "      <td>0.058956</td>\n",
       "    </tr>\n",
       "  </tbody>\n",
       "</table>\n",
       "</div>"
      ],
      "text/plain": [
       "                timestamp    duration  iteration lambda  predictors  \\\n",
       "0     2020-06-26 16:44:49   0.000 sec          1  .38E1           1   \n",
       "1     2020-06-26 16:44:49   0.003 sec          3  .36E1           2   \n",
       "2     2020-06-26 16:44:49   0.005 sec          5  .34E1           2   \n",
       "3     2020-06-26 16:44:49   0.007 sec          7  .33E1           2   \n",
       "4     2020-06-26 16:44:49   0.009 sec          9  .31E1           2   \n",
       "5     2020-06-26 16:44:49   0.011 sec         11   .3E1           2   \n",
       "6     2020-06-26 16:44:49   0.012 sec         13  .29E1           2   \n",
       "7     2020-06-26 16:44:49   0.015 sec         15  .27E1           3   \n",
       "8     2020-06-26 16:44:49   0.017 sec         17  .26E1           3   \n",
       "9     2020-06-26 16:44:49   0.019 sec         19  .25E1           3   \n",
       "10    2020-06-26 16:44:49   0.021 sec         21  .24E1           3   \n",
       "11    2020-06-26 16:44:49   0.023 sec         23  .23E1           3   \n",
       "12    2020-06-26 16:44:49   0.025 sec         25  .22E1           3   \n",
       "13    2020-06-26 16:44:49   0.027 sec         27  .21E1           5   \n",
       "14    2020-06-26 16:44:49   0.028 sec         29   .2E1           5   \n",
       "15    2020-06-26 16:44:49   0.031 sec         31  .19E1           5   \n",
       "16    2020-06-26 16:44:49   0.033 sec         33  .18E1           5   \n",
       "17    2020-06-26 16:44:49   0.035 sec         35  .17E1           5   \n",
       "18    2020-06-26 16:44:49   0.037 sec         37  .16E1           5   \n",
       "19    2020-06-26 16:44:49   0.038 sec         39  .16E1           6   \n",
       "\n",
       "    deviance_train  deviance_test  \n",
       "0         0.146310       0.160023  \n",
       "1         0.137675       0.150676  \n",
       "2         0.129809       0.142166  \n",
       "3         0.122649       0.134426  \n",
       "4         0.116131       0.127384  \n",
       "5         0.110198       0.120978  \n",
       "6         0.104796       0.115150  \n",
       "7         0.099470       0.109441  \n",
       "8         0.093795       0.103415  \n",
       "9         0.088634       0.097923  \n",
       "10        0.083937       0.092913  \n",
       "11        0.079663       0.088344  \n",
       "12        0.075773       0.084175  \n",
       "13        0.071963       0.080029  \n",
       "14        0.067825       0.075652  \n",
       "15        0.064058       0.071667  \n",
       "16        0.060629       0.068040  \n",
       "17        0.057508       0.064740  \n",
       "18        0.054666       0.061737  \n",
       "19        0.052059       0.058956  "
      ]
     },
     "metadata": {},
     "output_type": "display_data"
    },
    {
     "name": "stdout",
     "output_type": "stream",
     "text": [
      "\n",
      "See the whole table with table.as_data_frame()\n"
     ]
    },
    {
     "data": {
      "text/plain": []
     },
     "execution_count": 33,
     "metadata": {},
     "output_type": "execute_result"
    }
   ],
   "source": [
    "best_glm = grid.get_grid()[0]\n",
    "best_glm"
   ]
  },
  {
   "cell_type": "code",
   "execution_count": 34,
   "metadata": {},
   "outputs": [
    {
     "name": "stdout",
     "output_type": "stream",
     "text": [
      "Best penalized GLM coefficients:\n",
      "Functional_Maj2:          -0.01689457990821309\n",
      "MSZoning_C (all):         -0.01022908640576613\n",
      "Neighborhood_MeadowV:     -0.008591247502026734\n",
      "Street_Grvl:              -0.006109216153912197\n",
      "MSZoning_RM:              -0.0056182531646116396\n",
      "SaleCondition_Abnorml:    -0.005588864337273467\n",
      "SaleCondition_Family:     -0.0049386240542253325\n",
      "MasVnrType_BrkCmn:        -0.004915722899119188\n",
      "Condition1_RRAe:          -0.004795832437055028\n",
      "Heating_Grav:             -0.0044596716722398394\n",
      "LandSlope_Sev:            -0.004000730913264429\n",
      "Exterior2nd_Brk Cmn:      -0.003870729966099762\n",
      "BldgType_Twnhs:           -0.0037400194572152134\n",
      "ExterQual_Fa:             -0.0034393696759166376\n",
      "KitchenAbvGr:             -0.003254195365718353\n",
      "BsmtCond_Fa:              -0.0031053514075000802\n",
      "Condition1_Artery:        -0.0029266119659136607\n",
      "CentralAir_N:             -0.002748200772589435\n",
      "Functional_Maj1:          -0.0027165282077695314\n",
      "Neighborhood_Edwards:     -0.0021105204479888507\n",
      "MSZoning_RH:              -0.001951289770933236\n",
      "GarageQual_Fa:            -0.0017969187092841223\n",
      "KitchenQual_Fa:           -0.0014316335862645374\n",
      "Neighborhood_Mitchel:     -0.0010058605071398034\n",
      "BsmtFinType2_GLQ:         0.001054566619845438\n",
      "HeatingQC_Ex:             0.0012656332622426319\n",
      "MasVnrType_Stone:         0.0013046410642479217\n",
      "ExterQual_Ex:             0.0013921494725852202\n",
      "Neighborhood_ClearCr:     0.0016972628083178575\n",
      "BldgType_1Fam:            0.0018241389588558674\n",
      "Foundation_PConc:         0.0018797052894872538\n",
      "LotConfig_CulDSac:        0.0019346826311571808\n",
      "BsmtFullBath:             0.001947697845468752\n",
      "Fireplaces:               0.001961555062186387\n",
      "Neighborhood_BrkSide:     0.001964465691133112\n",
      "Condition1_Norm:          0.0019818141852578947\n",
      "Heating_GasW:             0.002098984912363083\n",
      "MSZoning_FV:              0.002187512198329162\n",
      "GarageCars:               0.0023803692562940257\n",
      "BsmtQual_Ex:              0.0025818746260510986\n",
      "OverallCond:              0.0029043905825601526\n",
      "Neighborhood_NridgHt:     0.003235326731791978\n",
      "BsmtExposure_Gd:          0.0034004089105982137\n",
      "SaleType_New:             0.0036381316158569346\n",
      "KitchenQual_Ex:           0.004033243666322649\n",
      "OverallQual:              0.00409158558811803\n",
      "Functional_Typ:           0.004322913141474936\n",
      "Exterior1st_BrkFace:      0.005395127383507589\n",
      "Neighborhood_StoneBr:     0.006409288694755282\n",
      "Neighborhood_Crawfor:     0.008990539343994635\n",
      "Intercept:                2.2266824008786474\n"
     ]
    }
   ],
   "source": [
    "#the thereshold is set to be 0.001\n",
    "selected_feature = []\n",
    "print('Best penalized GLM coefficients:')\n",
    "for c_name, c_val in sorted(best_glm.coef().items(), key=operator.itemgetter(1)):\n",
    "    if abs(c_val) > GLM_SELECTION_THRESHOLD:\n",
    "        print('%s %s' % (str(c_name + ':').ljust(25), c_val))\n",
    "        if c_name != \"Intercept\":\n",
    "            selected_feature.append(c_name)"
   ]
  },
  {
   "cell_type": "code",
   "execution_count": 35,
   "metadata": {},
   "outputs": [
    {
     "data": {
      "image/png": "[encoded data removed]",
      "text/plain": [
       "<matplotlib.figure.Figure at 0x1d974d38630>"
      ]
     },
     "metadata": {
      "needs_background": "light"
     },
     "output_type": "display_data"
    }
   ],
   "source": [
    "best_glm.varimp_plot()"
   ]
  },
  {
   "cell_type": "code",
   "execution_count": 36,
   "metadata": {},
   "outputs": [
    {
     "data": {
      "image/png": "[encoded data removed]",
      "text/plain": [
       "<matplotlib.figure.Figure at 0x1d973950b00>"
      ]
     },
     "metadata": {
      "needs_background": "light"
     },
     "output_type": "display_data"
    }
   ],
   "source": [
    "# collect regularization paths from dict in DataFrame\n",
    "reg_path_dict = best_glm.getGLMRegularizationPath(best_glm)\n",
    "\n",
    "reg_path_frame = pd.DataFrame(columns=reg_path_dict['coefficients'][0].keys())\n",
    "for i in range(0, len(reg_path_dict['coefficients'])): \n",
    "    reg_path_frame = reg_path_frame.append(reg_path_dict['coefficients'][i], \n",
    "                                           ignore_index=True)\n",
    "\n",
    "# plot regularization paths\n",
    "fig, ax_ = plt.subplots(figsize=(8, 6))\n",
    "_ = reg_path_frame[selected_feature].plot(kind='line', ax=ax_, title='Penalized GLM Regularization Paths',\n",
    "                                      colormap='gnuplot')\n",
    "_ = ax_.set_xlabel('Iteration')\n",
    "_ = ax_.set_ylabel('Coefficient Value')\n",
    "_ = ax_.axhline(c='k', lw=1, xmin=0.045, xmax=0.955)\n",
    "_ = plt.legend(bbox_to_anchor=(1.05, 0),\n",
    "               loc=3, \n",
    "               borderaxespad=0.)"
   ]
  },
  {
   "cell_type": "markdown",
   "metadata": {},
   "source": [
    "#### plot the partial dependence"
   ]
  },
  {
   "cell_type": "code",
   "execution_count": 40,
   "metadata": {
    "scrolled": false
   },
   "outputs": [
    {
     "name": "stdout",
     "output_type": "stream",
     "text": [
      "\n",
      "PartialDependence: Partial Dependence Plot of model Grid_GLM_Key_Frame__upload_aa26fd4a4bc19de73f4f3ae4213649ca.hex_model_python_1593204071312_1_model_5 on column 'GrLivArea'.\n"
     ]
    },
    {
     "data": {
      "text/html": [
       "<div>\n",
       "<style scoped>\n",
       "    .dataframe tbody tr th:only-of-type {\n",
       "        vertical-align: middle;\n",
       "    }\n",
       "\n",
       "    .dataframe tbody tr th {\n",
       "        vertical-align: top;\n",
       "    }\n",
       "\n",
       "    .dataframe thead th {\n",
       "        text-align: right;\n",
       "    }\n",
       "</style>\n",
       "<table border=\"1\" class=\"dataframe\">\n",
       "  <thead>\n",
       "    <tr style=\"text-align: right;\">\n",
       "      <th></th>\n",
       "      <th>grlivarea</th>\n",
       "      <th>mean_response</th>\n",
       "      <th>stddev_response</th>\n",
       "      <th>std_error_mean_response</th>\n",
       "    </tr>\n",
       "  </thead>\n",
       "  <tbody>\n",
       "    <tr>\n",
       "      <th>0</th>\n",
       "      <td>520.000000</td>\n",
       "      <td>11.774334</td>\n",
       "      <td>0.273992</td>\n",
       "      <td>0.007596</td>\n",
       "    </tr>\n",
       "    <tr>\n",
       "      <th>1</th>\n",
       "      <td>683.526316</td>\n",
       "      <td>11.815600</td>\n",
       "      <td>0.274952</td>\n",
       "      <td>0.007623</td>\n",
       "    </tr>\n",
       "    <tr>\n",
       "      <th>2</th>\n",
       "      <td>847.052632</td>\n",
       "      <td>11.857011</td>\n",
       "      <td>0.275916</td>\n",
       "      <td>0.007650</td>\n",
       "    </tr>\n",
       "    <tr>\n",
       "      <th>3</th>\n",
       "      <td>1010.578947</td>\n",
       "      <td>11.898566</td>\n",
       "      <td>0.276883</td>\n",
       "      <td>0.007676</td>\n",
       "    </tr>\n",
       "    <tr>\n",
       "      <th>4</th>\n",
       "      <td>1174.105263</td>\n",
       "      <td>11.940268</td>\n",
       "      <td>0.277853</td>\n",
       "      <td>0.007703</td>\n",
       "    </tr>\n",
       "    <tr>\n",
       "      <th>5</th>\n",
       "      <td>1337.631579</td>\n",
       "      <td>11.982115</td>\n",
       "      <td>0.278827</td>\n",
       "      <td>0.007730</td>\n",
       "    </tr>\n",
       "    <tr>\n",
       "      <th>6</th>\n",
       "      <td>1501.157895</td>\n",
       "      <td>12.024110</td>\n",
       "      <td>0.279804</td>\n",
       "      <td>0.007757</td>\n",
       "    </tr>\n",
       "    <tr>\n",
       "      <th>7</th>\n",
       "      <td>1664.684211</td>\n",
       "      <td>12.066251</td>\n",
       "      <td>0.280785</td>\n",
       "      <td>0.007785</td>\n",
       "    </tr>\n",
       "    <tr>\n",
       "      <th>8</th>\n",
       "      <td>1828.210526</td>\n",
       "      <td>12.108540</td>\n",
       "      <td>0.281769</td>\n",
       "      <td>0.007812</td>\n",
       "    </tr>\n",
       "    <tr>\n",
       "      <th>9</th>\n",
       "      <td>1991.736842</td>\n",
       "      <td>12.150978</td>\n",
       "      <td>0.282756</td>\n",
       "      <td>0.007839</td>\n",
       "    </tr>\n",
       "    <tr>\n",
       "      <th>10</th>\n",
       "      <td>2155.263158</td>\n",
       "      <td>12.193564</td>\n",
       "      <td>0.283747</td>\n",
       "      <td>0.007867</td>\n",
       "    </tr>\n",
       "    <tr>\n",
       "      <th>11</th>\n",
       "      <td>2318.789474</td>\n",
       "      <td>12.236299</td>\n",
       "      <td>0.284742</td>\n",
       "      <td>0.007894</td>\n",
       "    </tr>\n",
       "    <tr>\n",
       "      <th>12</th>\n",
       "      <td>2482.315789</td>\n",
       "      <td>12.279184</td>\n",
       "      <td>0.285740</td>\n",
       "      <td>0.007922</td>\n",
       "    </tr>\n",
       "    <tr>\n",
       "      <th>13</th>\n",
       "      <td>2645.842105</td>\n",
       "      <td>12.322219</td>\n",
       "      <td>0.286741</td>\n",
       "      <td>0.007950</td>\n",
       "    </tr>\n",
       "    <tr>\n",
       "      <th>14</th>\n",
       "      <td>2809.368421</td>\n",
       "      <td>12.365406</td>\n",
       "      <td>0.287746</td>\n",
       "      <td>0.007978</td>\n",
       "    </tr>\n",
       "    <tr>\n",
       "      <th>15</th>\n",
       "      <td>2972.894737</td>\n",
       "      <td>12.408743</td>\n",
       "      <td>0.288755</td>\n",
       "      <td>0.008006</td>\n",
       "    </tr>\n",
       "    <tr>\n",
       "      <th>16</th>\n",
       "      <td>3136.421053</td>\n",
       "      <td>12.452233</td>\n",
       "      <td>0.289767</td>\n",
       "      <td>0.008034</td>\n",
       "    </tr>\n",
       "    <tr>\n",
       "      <th>17</th>\n",
       "      <td>3299.947368</td>\n",
       "      <td>12.495875</td>\n",
       "      <td>0.290782</td>\n",
       "      <td>0.008062</td>\n",
       "    </tr>\n",
       "    <tr>\n",
       "      <th>18</th>\n",
       "      <td>3463.473684</td>\n",
       "      <td>12.539670</td>\n",
       "      <td>0.291801</td>\n",
       "      <td>0.008090</td>\n",
       "    </tr>\n",
       "    <tr>\n",
       "      <th>19</th>\n",
       "      <td>3627.000000</td>\n",
       "      <td>12.583618</td>\n",
       "      <td>0.292824</td>\n",
       "      <td>0.008118</td>\n",
       "    </tr>\n",
       "  </tbody>\n",
       "</table>\n",
       "</div>"
      ],
      "text/plain": [
       "      grlivarea  mean_response  stddev_response  std_error_mean_response\n",
       "0    520.000000      11.774334         0.273992                 0.007596\n",
       "1    683.526316      11.815600         0.274952                 0.007623\n",
       "2    847.052632      11.857011         0.275916                 0.007650\n",
       "3   1010.578947      11.898566         0.276883                 0.007676\n",
       "4   1174.105263      11.940268         0.277853                 0.007703\n",
       "5   1337.631579      11.982115         0.278827                 0.007730\n",
       "6   1501.157895      12.024110         0.279804                 0.007757\n",
       "7   1664.684211      12.066251         0.280785                 0.007785\n",
       "8   1828.210526      12.108540         0.281769                 0.007812\n",
       "9   1991.736842      12.150978         0.282756                 0.007839\n",
       "10  2155.263158      12.193564         0.283747                 0.007867\n",
       "11  2318.789474      12.236299         0.284742                 0.007894\n",
       "12  2482.315789      12.279184         0.285740                 0.007922\n",
       "13  2645.842105      12.322219         0.286741                 0.007950\n",
       "14  2809.368421      12.365406         0.287746                 0.007978\n",
       "15  2972.894737      12.408743         0.288755                 0.008006\n",
       "16  3136.421053      12.452233         0.289767                 0.008034\n",
       "17  3299.947368      12.495875         0.290782                 0.008062\n",
       "18  3463.473684      12.539670         0.291801                 0.008090\n",
       "19  3627.000000      12.583618         0.292824                 0.008118"
      ]
     },
     "metadata": {},
     "output_type": "display_data"
    },
    {
     "name": "stdout",
     "output_type": "stream",
     "text": [
      "\n",
      "PartialDependence: Partial Dependence Plot of model Grid_GLM_Key_Frame__upload_aa26fd4a4bc19de73f4f3ae4213649ca.hex_model_python_1593204071312_1_model_5 on column 'OverallQual'.\n"
     ]
    },
    {
     "data": {
      "text/html": [
       "<div>\n",
       "<style scoped>\n",
       "    .dataframe tbody tr th:only-of-type {\n",
       "        vertical-align: middle;\n",
       "    }\n",
       "\n",
       "    .dataframe tbody tr th {\n",
       "        vertical-align: top;\n",
       "    }\n",
       "\n",
       "    .dataframe thead th {\n",
       "        text-align: right;\n",
       "    }\n",
       "</style>\n",
       "<table border=\"1\" class=\"dataframe\">\n",
       "  <thead>\n",
       "    <tr style=\"text-align: right;\">\n",
       "      <th></th>\n",
       "      <th>overallqual</th>\n",
       "      <th>mean_response</th>\n",
       "      <th>stddev_response</th>\n",
       "      <th>std_error_mean_response</th>\n",
       "    </tr>\n",
       "  </thead>\n",
       "  <tbody>\n",
       "    <tr>\n",
       "      <th>0</th>\n",
       "      <td>3.0</td>\n",
       "      <td>11.874876</td>\n",
       "      <td>0.304753</td>\n",
       "      <td>0.008449</td>\n",
       "    </tr>\n",
       "    <tr>\n",
       "      <th>1</th>\n",
       "      <td>4.0</td>\n",
       "      <td>11.923563</td>\n",
       "      <td>0.306002</td>\n",
       "      <td>0.008484</td>\n",
       "    </tr>\n",
       "    <tr>\n",
       "      <th>2</th>\n",
       "      <td>5.0</td>\n",
       "      <td>11.972449</td>\n",
       "      <td>0.307257</td>\n",
       "      <td>0.008518</td>\n",
       "    </tr>\n",
       "    <tr>\n",
       "      <th>3</th>\n",
       "      <td>6.0</td>\n",
       "      <td>12.021535</td>\n",
       "      <td>0.308517</td>\n",
       "      <td>0.008553</td>\n",
       "    </tr>\n",
       "    <tr>\n",
       "      <th>4</th>\n",
       "      <td>7.0</td>\n",
       "      <td>12.070823</td>\n",
       "      <td>0.309781</td>\n",
       "      <td>0.008588</td>\n",
       "    </tr>\n",
       "    <tr>\n",
       "      <th>5</th>\n",
       "      <td>8.0</td>\n",
       "      <td>12.120313</td>\n",
       "      <td>0.311052</td>\n",
       "      <td>0.008624</td>\n",
       "    </tr>\n",
       "    <tr>\n",
       "      <th>6</th>\n",
       "      <td>9.0</td>\n",
       "      <td>12.170006</td>\n",
       "      <td>0.312327</td>\n",
       "      <td>0.008659</td>\n",
       "    </tr>\n",
       "    <tr>\n",
       "      <th>7</th>\n",
       "      <td>10.0</td>\n",
       "      <td>12.219903</td>\n",
       "      <td>0.313607</td>\n",
       "      <td>0.008695</td>\n",
       "    </tr>\n",
       "  </tbody>\n",
       "</table>\n",
       "</div>"
      ],
      "text/plain": [
       "   overallqual  mean_response  stddev_response  std_error_mean_response\n",
       "0          3.0      11.874876         0.304753                 0.008449\n",
       "1          4.0      11.923563         0.306002                 0.008484\n",
       "2          5.0      11.972449         0.307257                 0.008518\n",
       "3          6.0      12.021535         0.308517                 0.008553\n",
       "4          7.0      12.070823         0.309781                 0.008588\n",
       "5          8.0      12.120313         0.311052                 0.008624\n",
       "6          9.0      12.170006         0.312327                 0.008659\n",
       "7         10.0      12.219903         0.313607                 0.008695"
      ]
     },
     "metadata": {},
     "output_type": "display_data"
    },
    {
     "name": "stdout",
     "output_type": "stream",
     "text": [
      "\n",
      "PartialDependence: Partial Dependence Plot of model Grid_GLM_Key_Frame__upload_aa26fd4a4bc19de73f4f3ae4213649ca.hex_model_python_1593204071312_1_model_5 on column 'YearBuilt'.\n"
     ]
    },
    {
     "data": {
      "text/html": [
       "<div>\n",
       "<style scoped>\n",
       "    .dataframe tbody tr th:only-of-type {\n",
       "        vertical-align: middle;\n",
       "    }\n",
       "\n",
       "    .dataframe tbody tr th {\n",
       "        vertical-align: top;\n",
       "    }\n",
       "\n",
       "    .dataframe thead th {\n",
       "        text-align: right;\n",
       "    }\n",
       "</style>\n",
       "<table border=\"1\" class=\"dataframe\">\n",
       "  <thead>\n",
       "    <tr style=\"text-align: right;\">\n",
       "      <th></th>\n",
       "      <th>yearbuilt</th>\n",
       "      <th>mean_response</th>\n",
       "      <th>stddev_response</th>\n",
       "      <th>std_error_mean_response</th>\n",
       "    </tr>\n",
       "  </thead>\n",
       "  <tbody>\n",
       "    <tr>\n",
       "      <th>0</th>\n",
       "      <td>1872.000000</td>\n",
       "      <td>11.866576</td>\n",
       "      <td>0.330716</td>\n",
       "      <td>0.009169</td>\n",
       "    </tr>\n",
       "    <tr>\n",
       "      <th>1</th>\n",
       "      <td>1879.263158</td>\n",
       "      <td>11.878216</td>\n",
       "      <td>0.331041</td>\n",
       "      <td>0.009178</td>\n",
       "    </tr>\n",
       "    <tr>\n",
       "      <th>2</th>\n",
       "      <td>1886.526316</td>\n",
       "      <td>11.889867</td>\n",
       "      <td>0.331365</td>\n",
       "      <td>0.009187</td>\n",
       "    </tr>\n",
       "    <tr>\n",
       "      <th>3</th>\n",
       "      <td>1893.789474</td>\n",
       "      <td>11.901529</td>\n",
       "      <td>0.331690</td>\n",
       "      <td>0.009196</td>\n",
       "    </tr>\n",
       "    <tr>\n",
       "      <th>4</th>\n",
       "      <td>1901.052632</td>\n",
       "      <td>11.913202</td>\n",
       "      <td>0.332016</td>\n",
       "      <td>0.009205</td>\n",
       "    </tr>\n",
       "    <tr>\n",
       "      <th>5</th>\n",
       "      <td>1908.315789</td>\n",
       "      <td>11.924888</td>\n",
       "      <td>0.332341</td>\n",
       "      <td>0.009214</td>\n",
       "    </tr>\n",
       "    <tr>\n",
       "      <th>6</th>\n",
       "      <td>1915.578947</td>\n",
       "      <td>11.936584</td>\n",
       "      <td>0.332667</td>\n",
       "      <td>0.009223</td>\n",
       "    </tr>\n",
       "    <tr>\n",
       "      <th>7</th>\n",
       "      <td>1922.842105</td>\n",
       "      <td>11.948292</td>\n",
       "      <td>0.332994</td>\n",
       "      <td>0.009232</td>\n",
       "    </tr>\n",
       "    <tr>\n",
       "      <th>8</th>\n",
       "      <td>1930.105263</td>\n",
       "      <td>11.960012</td>\n",
       "      <td>0.333320</td>\n",
       "      <td>0.009241</td>\n",
       "    </tr>\n",
       "    <tr>\n",
       "      <th>9</th>\n",
       "      <td>1937.368421</td>\n",
       "      <td>11.971743</td>\n",
       "      <td>0.333647</td>\n",
       "      <td>0.009250</td>\n",
       "    </tr>\n",
       "    <tr>\n",
       "      <th>10</th>\n",
       "      <td>1944.631579</td>\n",
       "      <td>11.983485</td>\n",
       "      <td>0.333975</td>\n",
       "      <td>0.009259</td>\n",
       "    </tr>\n",
       "    <tr>\n",
       "      <th>11</th>\n",
       "      <td>1951.894737</td>\n",
       "      <td>11.995239</td>\n",
       "      <td>0.334302</td>\n",
       "      <td>0.009268</td>\n",
       "    </tr>\n",
       "    <tr>\n",
       "      <th>12</th>\n",
       "      <td>1959.157895</td>\n",
       "      <td>12.007005</td>\n",
       "      <td>0.334630</td>\n",
       "      <td>0.009277</td>\n",
       "    </tr>\n",
       "    <tr>\n",
       "      <th>13</th>\n",
       "      <td>1966.421053</td>\n",
       "      <td>12.018782</td>\n",
       "      <td>0.334958</td>\n",
       "      <td>0.009286</td>\n",
       "    </tr>\n",
       "    <tr>\n",
       "      <th>14</th>\n",
       "      <td>1973.684211</td>\n",
       "      <td>12.030570</td>\n",
       "      <td>0.335287</td>\n",
       "      <td>0.009296</td>\n",
       "    </tr>\n",
       "    <tr>\n",
       "      <th>15</th>\n",
       "      <td>1980.947368</td>\n",
       "      <td>12.042371</td>\n",
       "      <td>0.335616</td>\n",
       "      <td>0.009305</td>\n",
       "    </tr>\n",
       "    <tr>\n",
       "      <th>16</th>\n",
       "      <td>1988.210526</td>\n",
       "      <td>12.054182</td>\n",
       "      <td>0.335945</td>\n",
       "      <td>0.009314</td>\n",
       "    </tr>\n",
       "    <tr>\n",
       "      <th>17</th>\n",
       "      <td>1995.473684</td>\n",
       "      <td>12.066006</td>\n",
       "      <td>0.336274</td>\n",
       "      <td>0.009323</td>\n",
       "    </tr>\n",
       "    <tr>\n",
       "      <th>18</th>\n",
       "      <td>2002.736842</td>\n",
       "      <td>12.077841</td>\n",
       "      <td>0.336604</td>\n",
       "      <td>0.009332</td>\n",
       "    </tr>\n",
       "    <tr>\n",
       "      <th>19</th>\n",
       "      <td>2010.000000</td>\n",
       "      <td>12.089687</td>\n",
       "      <td>0.336934</td>\n",
       "      <td>0.009341</td>\n",
       "    </tr>\n",
       "  </tbody>\n",
       "</table>\n",
       "</div>"
      ],
      "text/plain": [
       "      yearbuilt  mean_response  stddev_response  std_error_mean_response\n",
       "0   1872.000000      11.866576         0.330716                 0.009169\n",
       "1   1879.263158      11.878216         0.331041                 0.009178\n",
       "2   1886.526316      11.889867         0.331365                 0.009187\n",
       "3   1893.789474      11.901529         0.331690                 0.009196\n",
       "4   1901.052632      11.913202         0.332016                 0.009205\n",
       "5   1908.315789      11.924888         0.332341                 0.009214\n",
       "6   1915.578947      11.936584         0.332667                 0.009223\n",
       "7   1922.842105      11.948292         0.332994                 0.009232\n",
       "8   1930.105263      11.960012         0.333320                 0.009241\n",
       "9   1937.368421      11.971743         0.333647                 0.009250\n",
       "10  1944.631579      11.983485         0.333975                 0.009259\n",
       "11  1951.894737      11.995239         0.334302                 0.009268\n",
       "12  1959.157895      12.007005         0.334630                 0.009277\n",
       "13  1966.421053      12.018782         0.334958                 0.009286\n",
       "14  1973.684211      12.030570         0.335287                 0.009296\n",
       "15  1980.947368      12.042371         0.335616                 0.009305\n",
       "16  1988.210526      12.054182         0.335945                 0.009314\n",
       "17  1995.473684      12.066006         0.336274                 0.009323\n",
       "18  2002.736842      12.077841         0.336604                 0.009332\n",
       "19  2010.000000      12.089687         0.336934                 0.009341"
      ]
     },
     "metadata": {},
     "output_type": "display_data"
    },
    {
     "name": "stdout",
     "output_type": "stream",
     "text": [
      "\n",
      "PartialDependence: Partial Dependence Plot of model Grid_GLM_Key_Frame__upload_aa26fd4a4bc19de73f4f3ae4213649ca.hex_model_python_1593204071312_1_model_5 on column 'TotalBsmtSF'.\n"
     ]
    },
    {
     "data": {
      "text/html": [
       "<div>\n",
       "<style scoped>\n",
       "    .dataframe tbody tr th:only-of-type {\n",
       "        vertical-align: middle;\n",
       "    }\n",
       "\n",
       "    .dataframe tbody tr th {\n",
       "        vertical-align: top;\n",
       "    }\n",
       "\n",
       "    .dataframe thead th {\n",
       "        text-align: right;\n",
       "    }\n",
       "</style>\n",
       "<table border=\"1\" class=\"dataframe\">\n",
       "  <thead>\n",
       "    <tr style=\"text-align: right;\">\n",
       "      <th></th>\n",
       "      <th>totalbsmtsf</th>\n",
       "      <th>mean_response</th>\n",
       "      <th>stddev_response</th>\n",
       "      <th>std_error_mean_response</th>\n",
       "    </tr>\n",
       "  </thead>\n",
       "  <tbody>\n",
       "    <tr>\n",
       "      <th>0</th>\n",
       "      <td>0.000000</td>\n",
       "      <td>11.918121</td>\n",
       "      <td>0.332900</td>\n",
       "      <td>0.009229</td>\n",
       "    </tr>\n",
       "    <tr>\n",
       "      <th>1</th>\n",
       "      <td>138.578947</td>\n",
       "      <td>11.932441</td>\n",
       "      <td>0.333300</td>\n",
       "      <td>0.009241</td>\n",
       "    </tr>\n",
       "    <tr>\n",
       "      <th>2</th>\n",
       "      <td>277.157895</td>\n",
       "      <td>11.946778</td>\n",
       "      <td>0.333700</td>\n",
       "      <td>0.009252</td>\n",
       "    </tr>\n",
       "    <tr>\n",
       "      <th>3</th>\n",
       "      <td>415.736842</td>\n",
       "      <td>11.961132</td>\n",
       "      <td>0.334101</td>\n",
       "      <td>0.009263</td>\n",
       "    </tr>\n",
       "    <tr>\n",
       "      <th>4</th>\n",
       "      <td>554.315789</td>\n",
       "      <td>11.975503</td>\n",
       "      <td>0.334502</td>\n",
       "      <td>0.009274</td>\n",
       "    </tr>\n",
       "    <tr>\n",
       "      <th>5</th>\n",
       "      <td>692.894737</td>\n",
       "      <td>11.989891</td>\n",
       "      <td>0.334904</td>\n",
       "      <td>0.009285</td>\n",
       "    </tr>\n",
       "    <tr>\n",
       "      <th>6</th>\n",
       "      <td>831.473684</td>\n",
       "      <td>12.004297</td>\n",
       "      <td>0.335307</td>\n",
       "      <td>0.009296</td>\n",
       "    </tr>\n",
       "    <tr>\n",
       "      <th>7</th>\n",
       "      <td>970.052632</td>\n",
       "      <td>12.018720</td>\n",
       "      <td>0.335710</td>\n",
       "      <td>0.009307</td>\n",
       "    </tr>\n",
       "    <tr>\n",
       "      <th>8</th>\n",
       "      <td>1108.631579</td>\n",
       "      <td>12.033161</td>\n",
       "      <td>0.336113</td>\n",
       "      <td>0.009319</td>\n",
       "    </tr>\n",
       "    <tr>\n",
       "      <th>9</th>\n",
       "      <td>1247.210526</td>\n",
       "      <td>12.047619</td>\n",
       "      <td>0.336517</td>\n",
       "      <td>0.009330</td>\n",
       "    </tr>\n",
       "    <tr>\n",
       "      <th>10</th>\n",
       "      <td>1385.789474</td>\n",
       "      <td>12.062094</td>\n",
       "      <td>0.336921</td>\n",
       "      <td>0.009341</td>\n",
       "    </tr>\n",
       "    <tr>\n",
       "      <th>11</th>\n",
       "      <td>1524.368421</td>\n",
       "      <td>12.076587</td>\n",
       "      <td>0.337326</td>\n",
       "      <td>0.009352</td>\n",
       "    </tr>\n",
       "    <tr>\n",
       "      <th>12</th>\n",
       "      <td>1662.947368</td>\n",
       "      <td>12.091097</td>\n",
       "      <td>0.337731</td>\n",
       "      <td>0.009363</td>\n",
       "    </tr>\n",
       "    <tr>\n",
       "      <th>13</th>\n",
       "      <td>1801.526316</td>\n",
       "      <td>12.105624</td>\n",
       "      <td>0.338137</td>\n",
       "      <td>0.009375</td>\n",
       "    </tr>\n",
       "    <tr>\n",
       "      <th>14</th>\n",
       "      <td>1940.105263</td>\n",
       "      <td>12.120169</td>\n",
       "      <td>0.338543</td>\n",
       "      <td>0.009386</td>\n",
       "    </tr>\n",
       "    <tr>\n",
       "      <th>15</th>\n",
       "      <td>2078.684211</td>\n",
       "      <td>12.134731</td>\n",
       "      <td>0.338950</td>\n",
       "      <td>0.009397</td>\n",
       "    </tr>\n",
       "    <tr>\n",
       "      <th>16</th>\n",
       "      <td>2217.263158</td>\n",
       "      <td>12.149311</td>\n",
       "      <td>0.339357</td>\n",
       "      <td>0.009408</td>\n",
       "    </tr>\n",
       "    <tr>\n",
       "      <th>17</th>\n",
       "      <td>2355.842105</td>\n",
       "      <td>12.163909</td>\n",
       "      <td>0.339765</td>\n",
       "      <td>0.009420</td>\n",
       "    </tr>\n",
       "    <tr>\n",
       "      <th>18</th>\n",
       "      <td>2494.421053</td>\n",
       "      <td>12.178524</td>\n",
       "      <td>0.340173</td>\n",
       "      <td>0.009431</td>\n",
       "    </tr>\n",
       "    <tr>\n",
       "      <th>19</th>\n",
       "      <td>2633.000000</td>\n",
       "      <td>12.193156</td>\n",
       "      <td>0.340582</td>\n",
       "      <td>0.009442</td>\n",
       "    </tr>\n",
       "  </tbody>\n",
       "</table>\n",
       "</div>"
      ],
      "text/plain": [
       "    totalbsmtsf  mean_response  stddev_response  std_error_mean_response\n",
       "0      0.000000      11.918121         0.332900                 0.009229\n",
       "1    138.578947      11.932441         0.333300                 0.009241\n",
       "2    277.157895      11.946778         0.333700                 0.009252\n",
       "3    415.736842      11.961132         0.334101                 0.009263\n",
       "4    554.315789      11.975503         0.334502                 0.009274\n",
       "5    692.894737      11.989891         0.334904                 0.009285\n",
       "6    831.473684      12.004297         0.335307                 0.009296\n",
       "7    970.052632      12.018720         0.335710                 0.009307\n",
       "8   1108.631579      12.033161         0.336113                 0.009319\n",
       "9   1247.210526      12.047619         0.336517                 0.009330\n",
       "10  1385.789474      12.062094         0.336921                 0.009341\n",
       "11  1524.368421      12.076587         0.337326                 0.009352\n",
       "12  1662.947368      12.091097         0.337731                 0.009363\n",
       "13  1801.526316      12.105624         0.338137                 0.009375\n",
       "14  1940.105263      12.120169         0.338543                 0.009386\n",
       "15  2078.684211      12.134731         0.338950                 0.009397\n",
       "16  2217.263158      12.149311         0.339357                 0.009408\n",
       "17  2355.842105      12.163909         0.339765                 0.009420\n",
       "18  2494.421053      12.178524         0.340173                 0.009431\n",
       "19  2633.000000      12.193156         0.340582                 0.009442"
      ]
     },
     "metadata": {},
     "output_type": "display_data"
    },
    {
     "name": "stdout",
     "output_type": "stream",
     "text": [
      "\n",
      "PartialDependence: Partial Dependence Plot of model Grid_GLM_Key_Frame__upload_aa26fd4a4bc19de73f4f3ae4213649ca.hex_model_python_1593204071312_1_model_5 on column 'OverallCond'.\n"
     ]
    },
    {
     "data": {
      "text/html": [
       "<div>\n",
       "<style scoped>\n",
       "    .dataframe tbody tr th:only-of-type {\n",
       "        vertical-align: middle;\n",
       "    }\n",
       "\n",
       "    .dataframe tbody tr th {\n",
       "        vertical-align: top;\n",
       "    }\n",
       "\n",
       "    .dataframe thead th {\n",
       "        text-align: right;\n",
       "    }\n",
       "</style>\n",
       "<table border=\"1\" class=\"dataframe\">\n",
       "  <thead>\n",
       "    <tr style=\"text-align: right;\">\n",
       "      <th></th>\n",
       "      <th>overallcond</th>\n",
       "      <th>mean_response</th>\n",
       "      <th>stddev_response</th>\n",
       "      <th>std_error_mean_response</th>\n",
       "    </tr>\n",
       "  </thead>\n",
       "  <tbody>\n",
       "    <tr>\n",
       "      <th>0</th>\n",
       "      <td>2.0</td>\n",
       "      <td>11.903348</td>\n",
       "      <td>0.364555</td>\n",
       "      <td>0.010107</td>\n",
       "    </tr>\n",
       "    <tr>\n",
       "      <th>1</th>\n",
       "      <td>3.0</td>\n",
       "      <td>11.937970</td>\n",
       "      <td>0.365615</td>\n",
       "      <td>0.010136</td>\n",
       "    </tr>\n",
       "    <tr>\n",
       "      <th>2</th>\n",
       "      <td>4.0</td>\n",
       "      <td>11.972693</td>\n",
       "      <td>0.366679</td>\n",
       "      <td>0.010166</td>\n",
       "    </tr>\n",
       "    <tr>\n",
       "      <th>3</th>\n",
       "      <td>5.0</td>\n",
       "      <td>12.007517</td>\n",
       "      <td>0.367745</td>\n",
       "      <td>0.010195</td>\n",
       "    </tr>\n",
       "    <tr>\n",
       "      <th>4</th>\n",
       "      <td>6.0</td>\n",
       "      <td>12.042442</td>\n",
       "      <td>0.368815</td>\n",
       "      <td>0.010225</td>\n",
       "    </tr>\n",
       "    <tr>\n",
       "      <th>5</th>\n",
       "      <td>7.0</td>\n",
       "      <td>12.077469</td>\n",
       "      <td>0.369887</td>\n",
       "      <td>0.010255</td>\n",
       "    </tr>\n",
       "    <tr>\n",
       "      <th>6</th>\n",
       "      <td>8.0</td>\n",
       "      <td>12.112598</td>\n",
       "      <td>0.370963</td>\n",
       "      <td>0.010285</td>\n",
       "    </tr>\n",
       "    <tr>\n",
       "      <th>7</th>\n",
       "      <td>9.0</td>\n",
       "      <td>12.147828</td>\n",
       "      <td>0.372042</td>\n",
       "      <td>0.010315</td>\n",
       "    </tr>\n",
       "  </tbody>\n",
       "</table>\n",
       "</div>"
      ],
      "text/plain": [
       "   overallcond  mean_response  stddev_response  std_error_mean_response\n",
       "0          2.0      11.903348         0.364555                 0.010107\n",
       "1          3.0      11.937970         0.365615                 0.010136\n",
       "2          4.0      11.972693         0.366679                 0.010166\n",
       "3          5.0      12.007517         0.367745                 0.010195\n",
       "4          6.0      12.042442         0.368815                 0.010225\n",
       "5          7.0      12.077469         0.369887                 0.010255\n",
       "6          8.0      12.112598         0.370963                 0.010285\n",
       "7          9.0      12.147828         0.372042                 0.010315"
      ]
     },
     "metadata": {},
     "output_type": "display_data"
    },
    {
     "data": {
      "text/plain": [
       "[, , , , ]"
      ]
     },
     "execution_count": 40,
     "metadata": {},
     "output_type": "execute_result"
    },
    {
     "data": {
      "image/png": "[encoded data removed]",
      "text/plain": [
       "<matplotlib.figure.Figure at 0x1d9758636d8>"
      ]
     },
     "metadata": {
      "needs_background": "light"
     },
     "output_type": "display_data"
    }
   ],
   "source": [
    "fes = [\"GrLivArea\",\"OverallQual\",\"YearBuilt\",\"TotalBsmtSF\",\"OverallCond\"]\n",
    "best_glm.partial_plot(h2o.H2OFrame(train_glm),cols = fes)"
   ]
  },
  {
   "cell_type": "markdown",
   "metadata": {},
   "source": [
    "### find some percentile of yhat in the validadtion data"
   ]
  },
  {
   "cell_type": "code",
   "execution_count": 41,
   "metadata": {},
   "outputs": [
    {
     "data": {
      "text/plain": [
       "{0: 376,\n",
       " 10: 1012,\n",
       " 20: 1146,\n",
       " 30: 1161,\n",
       " 40: 1400,\n",
       " 50: 1094,\n",
       " 60: 1436,\n",
       " 70: 386,\n",
       " 80: 1212,\n",
       " 90: 158,\n",
       " 99: 497}"
      ]
     },
     "execution_count": 41,
     "metadata": {},
     "output_type": "execute_result"
    }
   ],
   "source": [
    "#use valid set to make prediction\n",
    "yhat = best_glm.predict(h2o.H2OFrame(valid_glm))\n",
    "\n",
    "#merge\n",
    "glm_yhat_valid = pd.concat([valid_glm.reset_index(drop=True),\n",
    "                           yhat.as_data_frame()],\n",
    "                           axis = 1)\n",
    "\n",
    "#rename\n",
    "glm_yhat_valid = glm_yhat_valid.rename(columns = {\"predict\":\"p_SalePrice\"})\n",
    "\n",
    "#find percentile\n",
    "glm_percentile_dict = explain.get_percentile_dict(\"p_SalePrice\",glm_yhat_valid,\"Id\")\n",
    "\n",
    "#display\n",
    "glm_percentile_dict"
   ]
  },
  {
   "cell_type": "markdown",
   "metadata": {},
   "source": [
    "#### compare the SalePrice and predicted result"
   ]
  },
  {
   "cell_type": "code",
   "execution_count": 42,
   "metadata": {},
   "outputs": [
    {
     "data": {
      "text/html": [
       "<div>\n",
       "<style scoped>\n",
       "    .dataframe tbody tr th:only-of-type {\n",
       "        vertical-align: middle;\n",
       "    }\n",
       "\n",
       "    .dataframe tbody tr th {\n",
       "        vertical-align: top;\n",
       "    }\n",
       "\n",
       "    .dataframe thead th {\n",
       "        text-align: right;\n",
       "    }\n",
       "</style>\n",
       "<table border=\"1\" class=\"dataframe\">\n",
       "  <thead>\n",
       "    <tr style=\"text-align: right;\">\n",
       "      <th></th>\n",
       "      <th>SalePrice</th>\n",
       "      <th>p_SalePrice</th>\n",
       "    </tr>\n",
       "  </thead>\n",
       "  <tbody>\n",
       "    <tr>\n",
       "      <th>0</th>\n",
       "      <td>12.247694</td>\n",
       "      <td>12.225942</td>\n",
       "    </tr>\n",
       "    <tr>\n",
       "      <th>1</th>\n",
       "      <td>12.634603</td>\n",
       "      <td>12.511251</td>\n",
       "    </tr>\n",
       "    <tr>\n",
       "      <th>2</th>\n",
       "      <td>12.751300</td>\n",
       "      <td>12.857709</td>\n",
       "    </tr>\n",
       "    <tr>\n",
       "      <th>3</th>\n",
       "      <td>11.976659</td>\n",
       "      <td>11.905653</td>\n",
       "    </tr>\n",
       "    <tr>\n",
       "      <th>4</th>\n",
       "      <td>11.811547</td>\n",
       "      <td>11.776987</td>\n",
       "    </tr>\n",
       "    <tr>\n",
       "      <th>5</th>\n",
       "      <td>12.100156</td>\n",
       "      <td>12.157810</td>\n",
       "    </tr>\n",
       "    <tr>\n",
       "      <th>6</th>\n",
       "      <td>12.860999</td>\n",
       "      <td>12.790351</td>\n",
       "    </tr>\n",
       "    <tr>\n",
       "      <th>7</th>\n",
       "      <td>11.735269</td>\n",
       "      <td>11.733207</td>\n",
       "    </tr>\n",
       "    <tr>\n",
       "      <th>8</th>\n",
       "      <td>11.289782</td>\n",
       "      <td>11.366477</td>\n",
       "    </tr>\n",
       "    <tr>\n",
       "      <th>9</th>\n",
       "      <td>11.608236</td>\n",
       "      <td>11.629273</td>\n",
       "    </tr>\n",
       "  </tbody>\n",
       "</table>\n",
       "</div>"
      ],
      "text/plain": [
       "   SalePrice  p_SalePrice\n",
       "0  12.247694    12.225942\n",
       "1  12.634603    12.511251\n",
       "2  12.751300    12.857709\n",
       "3  11.976659    11.905653\n",
       "4  11.811547    11.776987\n",
       "5  12.100156    12.157810\n",
       "6  12.860999    12.790351\n",
       "7  11.735269    11.733207\n",
       "8  11.289782    11.366477\n",
       "9  11.608236    11.629273"
      ]
     },
     "execution_count": 42,
     "metadata": {},
     "output_type": "execute_result"
    }
   ],
   "source": [
    "#show the SalePrice and predicted result\n",
    "glm_yhat_valid[[\"SalePrice\",\"p_SalePrice\"]].head(10)"
   ]
  },
  {
   "cell_type": "markdown",
   "metadata": {},
   "source": [
    "#### plot the comparison"
   ]
  },
  {
   "cell_type": "code",
   "execution_count": 43,
   "metadata": {},
   "outputs": [
    {
     "data": {
      "text/plain": [
       "<matplotlib.axes._subplots.AxesSubplot at 0x1d975c26e10>"
      ]
     },
     "execution_count": 43,
     "metadata": {},
     "output_type": "execute_result"
    },
    {
     "data": {
      "image/png": "[encoded data removed]",
      "text/plain": [
       "<matplotlib.figure.Figure at 0x1d975fae240>"
      ]
     },
     "metadata": {
      "needs_background": "light"
     },
     "output_type": "display_data"
    }
   ],
   "source": [
    "#'get current axis'\n",
    "ax = plt.gca()\n",
    "\n",
    "glm_yhat_valid.plot(x = \"Id\",y = \"SalePrice\",color = \"red\",ax=ax)\n",
    "glm_yhat_valid.plot(x = \"Id\",y = \"p_SalePrice\", ax = ax)\n",
    "\n",
    "#plt.show()"
   ]
  },
  {
   "cell_type": "markdown",
   "metadata": {},
   "source": [
    "## 2.2 XGboost"
   ]
  },
  {
   "cell_type": "code",
   "execution_count": 44,
   "metadata": {},
   "outputs": [
    {
     "data": {
      "text/plain": [
       "XGBRegressor(base_score=0.5, booster='gbtree', colsample_bylevel=1,\n",
       "       colsample_bynode=1, colsample_bytree=0.2, gamma=0, gpu_id=-1,\n",
       "       importance_type='gain', interaction_constraints='',\n",
       "       learning_rate=0.06, max_delta_step=0, max_depth=3,\n",
       "       min_child_weight=1, missing=nan, monotone_constraints='()',\n",
       "       n_estimators=1150, n_jobs=0, num_parallel_tree=1,\n",
       "       objective='reg:squarederror', random_state=0, reg_alpha=0,\n",
       "       reg_lambda=1, scale_pos_weight=1, subsample=1, tree_method='exact',\n",
       "       validate_parameters=1, verbosity=None)"
      ]
     },
     "execution_count": 44,
     "metadata": {},
     "output_type": "execute_result"
    }
   ],
   "source": [
    "#assign model roles\n",
    "x=train_glm[x_names]\n",
    "y=train_glm['SalePrice']\n",
    "\n",
    "#set the model\n",
    "model_xgb = xgb.XGBRegressor(n_estimators=1150, \n",
    "                             max_depth=3, \n",
    "                             learning_rate=0.06,\n",
    "                             colsample_bytree=0.2) \n",
    "\n",
    "model_xgb.fit(x, y)"
   ]
  },
  {
   "cell_type": "markdown",
   "metadata": {},
   "source": [
    "#### display the result"
   ]
  },
  {
   "cell_type": "code",
   "execution_count": 45,
   "metadata": {},
   "outputs": [
    {
     "data": {
      "text/plain": [
       "XGBRegressor(base_score=0.5, booster='gbtree', colsample_bylevel=1,\n",
       "       colsample_bynode=1, colsample_bytree=0.2, gamma=0, gpu_id=-1,\n",
       "       importance_type='gain', interaction_constraints='',\n",
       "       learning_rate=0.06, max_delta_step=0, max_depth=3,\n",
       "       min_child_weight=1, missing=nan, monotone_constraints='()',\n",
       "       n_estimators=1150, n_jobs=0, num_parallel_tree=1,\n",
       "       objective='reg:squarederror', random_state=0, reg_alpha=0,\n",
       "       reg_lambda=1, scale_pos_weight=1, subsample=1, tree_method='exact',\n",
       "       validate_parameters=1, verbosity=None)"
      ]
     },
     "execution_count": 45,
     "metadata": {},
     "output_type": "execute_result"
    }
   ],
   "source": [
    "model_xgb"
   ]
  },
  {
   "cell_type": "markdown",
   "metadata": {},
   "source": [
    "### Average result"
   ]
  },
  {
   "cell_type": "markdown",
   "metadata": {},
   "source": [
    "#### glm prediction result for test set"
   ]
  },
  {
   "cell_type": "code",
   "execution_count": 46,
   "metadata": {},
   "outputs": [],
   "source": [
    "#make prediction\n",
    "p_SalePrice = best_glm.predict(h2o.H2OFrame(test_glm))\n",
    "p_SalePrice = p_SalePrice.as_data_frame()\n",
    "\n",
    "#format a new data frame\n",
    "Id = test_glm[\"Id\"]\n",
    "glm = pd.DataFrame(data = Id)\n",
    "glm[\"SalePrice\"] = p_SalePrice\n",
    "\n",
    "#make exponential\n",
    "glm[\"SalePrice\"] = np.exp(glm[\"SalePrice\"])\n",
    "    \n",
    "#export csv file\n",
    "glm.to_csv(r\"../glm_submission.csv\",index = False, header = True)"
   ]
  },
  {
   "cell_type": "markdown",
   "metadata": {},
   "source": [
    "show the head of glm prediction result"
   ]
  },
  {
   "cell_type": "code",
   "execution_count": 47,
   "metadata": {},
   "outputs": [
    {
     "data": {
      "text/html": [
       "<div>\n",
       "<style scoped>\n",
       "    .dataframe tbody tr th:only-of-type {\n",
       "        vertical-align: middle;\n",
       "    }\n",
       "\n",
       "    .dataframe tbody tr th {\n",
       "        vertical-align: top;\n",
       "    }\n",
       "\n",
       "    .dataframe thead th {\n",
       "        text-align: right;\n",
       "    }\n",
       "</style>\n",
       "<table border=\"1\" class=\"dataframe\">\n",
       "  <thead>\n",
       "    <tr style=\"text-align: right;\">\n",
       "      <th></th>\n",
       "      <th>Id</th>\n",
       "      <th>SalePrice</th>\n",
       "    </tr>\n",
       "  </thead>\n",
       "  <tbody>\n",
       "    <tr>\n",
       "      <th>0</th>\n",
       "      <td>1461</td>\n",
       "      <td>120560.773383</td>\n",
       "    </tr>\n",
       "    <tr>\n",
       "      <th>1</th>\n",
       "      <td>1462</td>\n",
       "      <td>152791.872170</td>\n",
       "    </tr>\n",
       "    <tr>\n",
       "      <th>2</th>\n",
       "      <td>1463</td>\n",
       "      <td>179074.752679</td>\n",
       "    </tr>\n",
       "    <tr>\n",
       "      <th>3</th>\n",
       "      <td>1464</td>\n",
       "      <td>196243.091084</td>\n",
       "    </tr>\n",
       "    <tr>\n",
       "      <th>4</th>\n",
       "      <td>1465</td>\n",
       "      <td>193853.146869</td>\n",
       "    </tr>\n",
       "  </tbody>\n",
       "</table>\n",
       "</div>"
      ],
      "text/plain": [
       "     Id      SalePrice\n",
       "0  1461  120560.773383\n",
       "1  1462  152791.872170\n",
       "2  1463  179074.752679\n",
       "3  1464  196243.091084\n",
       "4  1465  193853.146869"
      ]
     },
     "execution_count": 47,
     "metadata": {},
     "output_type": "execute_result"
    }
   ],
   "source": [
    "#display the head\n",
    "glm.head()"
   ]
  },
  {
   "cell_type": "markdown",
   "metadata": {},
   "source": [
    "#### xgboost prediction result for test set"
   ]
  },
  {
   "cell_type": "code",
   "execution_count": 48,
   "metadata": {},
   "outputs": [],
   "source": [
    "#make prediction\n",
    "test_glm.drop(columns = \"Id\",inplace = True)\n",
    "pred_xgb=model_xgb.predict(test_glm)\n",
    "pred_xgb = np.exp(pred_xgb)\n",
    "\n",
    "#create dataframe\n",
    "xgb = pd.DataFrame(data = test[\"Id\"])\n",
    "xgb[\"SalePrice\"] = pred_xgb\n",
    "xgb.to_csv(r\"../xgb_submission.csv\",index = False, header = True)"
   ]
  },
  {
   "cell_type": "markdown",
   "metadata": {},
   "source": [
    "show the head of xgb prediction result"
   ]
  },
  {
   "cell_type": "code",
   "execution_count": 49,
   "metadata": {},
   "outputs": [
    {
     "data": {
      "text/html": [
       "<div>\n",
       "<style scoped>\n",
       "    .dataframe tbody tr th:only-of-type {\n",
       "        vertical-align: middle;\n",
       "    }\n",
       "\n",
       "    .dataframe tbody tr th {\n",
       "        vertical-align: top;\n",
       "    }\n",
       "\n",
       "    .dataframe thead th {\n",
       "        text-align: right;\n",
       "    }\n",
       "</style>\n",
       "<table border=\"1\" class=\"dataframe\">\n",
       "  <thead>\n",
       "    <tr style=\"text-align: right;\">\n",
       "      <th></th>\n",
       "      <th>Id</th>\n",
       "      <th>SalePrice</th>\n",
       "    </tr>\n",
       "  </thead>\n",
       "  <tbody>\n",
       "    <tr>\n",
       "      <th>0</th>\n",
       "      <td>1461</td>\n",
       "      <td>123675.460938</td>\n",
       "    </tr>\n",
       "    <tr>\n",
       "      <th>1</th>\n",
       "      <td>1462</td>\n",
       "      <td>164150.062500</td>\n",
       "    </tr>\n",
       "    <tr>\n",
       "      <th>2</th>\n",
       "      <td>1463</td>\n",
       "      <td>190917.453125</td>\n",
       "    </tr>\n",
       "    <tr>\n",
       "      <th>3</th>\n",
       "      <td>1464</td>\n",
       "      <td>201885.312500</td>\n",
       "    </tr>\n",
       "    <tr>\n",
       "      <th>4</th>\n",
       "      <td>1465</td>\n",
       "      <td>188592.093750</td>\n",
       "    </tr>\n",
       "  </tbody>\n",
       "</table>\n",
       "</div>"
      ],
      "text/plain": [
       "     Id      SalePrice\n",
       "0  1461  123675.460938\n",
       "1  1462  164150.062500\n",
       "2  1463  190917.453125\n",
       "3  1464  201885.312500\n",
       "4  1465  188592.093750"
      ]
     },
     "execution_count": 49,
     "metadata": {},
     "output_type": "execute_result"
    }
   ],
   "source": [
    "xgb.head()"
   ]
  },
  {
   "cell_type": "markdown",
   "metadata": {},
   "source": [
    "average the result"
   ]
  },
  {
   "cell_type": "code",
   "execution_count": 50,
   "metadata": {},
   "outputs": [],
   "source": [
    "#calculate the average prediction result\n",
    "avg_result = (xgb[\"SalePrice\"] +glm[\"SalePrice\"])/2\n",
    "avg = pd.DataFrame(data = test[\"Id\"])\n",
    "avg[\"SalePrice\"] = avg_result\n",
    "\n",
    "avg.to_csv(r\"../avg_submission.csv\",index = False, header = True)"
   ]
  },
  {
   "cell_type": "markdown",
   "metadata": {},
   "source": [
    "#### show the final output"
   ]
  },
  {
   "cell_type": "code",
   "execution_count": 52,
   "metadata": {},
   "outputs": [
    {
     "data": {
      "text/html": [
       "<div>\n",
       "<style scoped>\n",
       "    .dataframe tbody tr th:only-of-type {\n",
       "        vertical-align: middle;\n",
       "    }\n",
       "\n",
       "    .dataframe tbody tr th {\n",
       "        vertical-align: top;\n",
       "    }\n",
       "\n",
       "    .dataframe thead th {\n",
       "        text-align: right;\n",
       "    }\n",
       "</style>\n",
       "<table border=\"1\" class=\"dataframe\">\n",
       "  <thead>\n",
       "    <tr style=\"text-align: right;\">\n",
       "      <th></th>\n",
       "      <th>Id</th>\n",
       "      <th>SalePrice</th>\n",
       "    </tr>\n",
       "  </thead>\n",
       "  <tbody>\n",
       "    <tr>\n",
       "      <th>0</th>\n",
       "      <td>1461</td>\n",
       "      <td>122118.117160</td>\n",
       "    </tr>\n",
       "    <tr>\n",
       "      <th>1</th>\n",
       "      <td>1462</td>\n",
       "      <td>158470.967335</td>\n",
       "    </tr>\n",
       "    <tr>\n",
       "      <th>2</th>\n",
       "      <td>1463</td>\n",
       "      <td>184996.102902</td>\n",
       "    </tr>\n",
       "    <tr>\n",
       "      <th>3</th>\n",
       "      <td>1464</td>\n",
       "      <td>199064.201792</td>\n",
       "    </tr>\n",
       "    <tr>\n",
       "      <th>4</th>\n",
       "      <td>1465</td>\n",
       "      <td>191222.620310</td>\n",
       "    </tr>\n",
       "    <tr>\n",
       "      <th>5</th>\n",
       "      <td>1466</td>\n",
       "      <td>172392.006964</td>\n",
       "    </tr>\n",
       "    <tr>\n",
       "      <th>6</th>\n",
       "      <td>1467</td>\n",
       "      <td>173503.748219</td>\n",
       "    </tr>\n",
       "    <tr>\n",
       "      <th>7</th>\n",
       "      <td>1468</td>\n",
       "      <td>165152.384785</td>\n",
       "    </tr>\n",
       "    <tr>\n",
       "      <th>8</th>\n",
       "      <td>1469</td>\n",
       "      <td>188471.482669</td>\n",
       "    </tr>\n",
       "    <tr>\n",
       "      <th>9</th>\n",
       "      <td>1470</td>\n",
       "      <td>123721.783404</td>\n",
       "    </tr>\n",
       "  </tbody>\n",
       "</table>\n",
       "</div>"
      ],
      "text/plain": [
       "     Id      SalePrice\n",
       "0  1461  122118.117160\n",
       "1  1462  158470.967335\n",
       "2  1463  184996.102902\n",
       "3  1464  199064.201792\n",
       "4  1465  191222.620310\n",
       "5  1466  172392.006964\n",
       "6  1467  173503.748219\n",
       "7  1468  165152.384785\n",
       "8  1469  188471.482669\n",
       "9  1470  123721.783404"
      ]
     },
     "execution_count": 52,
     "metadata": {},
     "output_type": "execute_result"
    }
   ],
   "source": [
    "avg.head(10)"
   ]
  },
  {
   "cell_type": "markdown",
   "metadata": {},
   "source": [
    "## Alternative methods: Construct GBM\n",
    "\n",
    "Thess methods are not selected to predict the test SalePrice."
   ]
  },
  {
   "cell_type": "markdown",
   "metadata": {},
   "source": [
    "#### 1. gbm with selected feature"
   ]
  },
  {
   "cell_type": "code",
   "execution_count": 54,
   "metadata": {},
   "outputs": [
    {
     "data": {
      "text/plain": [
       "<matplotlib.axes._subplots.AxesSubplot at 0x1d97c2ebeb8>"
      ]
     },
     "execution_count": 54,
     "metadata": {},
     "output_type": "execute_result"
    },
    {
     "data": {
      "image/png": "[encoded data removed]",
      "text/plain": [
       "<matplotlib.figure.Figure at 0x1d975fd6e48>"
      ]
     },
     "metadata": {
      "needs_background": "light"
     },
     "output_type": "display_data"
    }
   ],
   "source": [
    "#gbm\n",
    "pros_gbm1 = H2OGradientBoostingEstimator(nfolds=5,\n",
    "                                        seed=SEED,\n",
    "                                        keep_cross_validation_predictions = True)\n",
    "pros_gbm1.train(x=selected_feature, y=y_name, training_frame=h2o.H2OFrame(train_glm),validation_frame=h2o.H2OFrame(valid_glm))\n",
    "\n",
    "\n",
    "#get score history\n",
    "sh1 = pros_gbm1.score_history()\n",
    "\n",
    "#set variables\n",
    "x_var = \"number_of_trees\"\n",
    "y1 = \"training_rmse\"\n",
    "y2 = \"validation_rmse\"\n",
    "\n",
    "##'get current axis'\n",
    "ax = plt.gca()\n",
    "\n",
    "sh1.plot(x = x_var,y = y1,color = \"red\",ax=ax)\n",
    "sh1.plot(x = x_var,y = y2, ax = ax)"
   ]
  },
  {
   "cell_type": "markdown",
   "metadata": {},
   "source": [
    "Use valid set to predict the result"
   ]
  },
  {
   "cell_type": "code",
   "execution_count": 55,
   "metadata": {},
   "outputs": [
    {
     "data": {
      "text/plain": [
       "<matplotlib.axes._subplots.AxesSubplot at 0x1d975ba3a58>"
      ]
     },
     "execution_count": 55,
     "metadata": {},
     "output_type": "execute_result"
    },
    {
     "data": {
      "image/png": "[encoded data removed]",
      "text/plain": [
       "<matplotlib.figure.Figure at 0x1d97c2e2a90>"
      ]
     },
     "metadata": {
      "needs_background": "light"
     },
     "output_type": "display_data"
    }
   ],
   "source": [
    "yhat_gbm1 = pros_gbm1.predict(h2o.H2OFrame(valid_glm))\n",
    "#merge\n",
    "glm_yhat_valid = pd.concat([valid_glm.reset_index(drop=True),\n",
    "                           yhat_gbm1.as_data_frame()],\n",
    "                           axis = 1)\n",
    "\n",
    "#rename\n",
    "glm_yhat_valid = glm_yhat_valid.rename(columns = {\"predict\":\"p_SalePrice\"})\n",
    "\n",
    "#find percentile\n",
    "glm_percentile_dict = explain.get_percentile_dict(\"p_SalePrice\",glm_yhat_valid,\"Id\")\n",
    "\n",
    "#display\n",
    "glm_percentile_dict\n",
    "\n",
    "glm_yhat_valid[[\"SalePrice\",\"p_SalePrice\"]].head(10)\n",
    "\n",
    "#'get current axis'\n",
    "ax = plt.gca()\n",
    "\n",
    "glm_yhat_valid.plot(x = \"Id\",y = \"SalePrice\",color = \"red\",ax=ax)\n",
    "glm_yhat_valid.plot(x = \"Id\",y = \"p_SalePrice\", ax = ax)\n",
    "\n",
    "#plt.show()"
   ]
  },
  {
   "cell_type": "markdown",
   "metadata": {},
   "source": [
    "#### 2. directly use gbm, with dummy variables"
   ]
  },
  {
   "cell_type": "code",
   "execution_count": 56,
   "metadata": {},
   "outputs": [
    {
     "data": {
      "image/png": "[encoded data removed]",
      "text/plain": [
       "<matplotlib.figure.Figure at 0x1d975cf6128>"
      ]
     },
     "metadata": {
      "needs_background": "light"
     },
     "output_type": "display_data"
    }
   ],
   "source": [
    "pros_gbm2 = H2OGradientBoostingEstimator(nfolds=5,\n",
    "                                        seed=SEED,\n",
    "                                        keep_cross_validation_predictions = True)\n",
    "pros_gbm2.train(x=x_names, y=y_name, training_frame=h2o.H2OFrame(train_glm),validation_frame=h2o.H2OFrame(valid_glm))\n",
    "\n",
    "#get score history\n",
    "sh2 = pros_gbm2.score_history()\n",
    "\n",
    "##'get current axis'\n",
    "ax = plt.gca()\n",
    "\n",
    "sh2.plot(x = x_var,y = y1,color = \"red\",ax=ax)\n",
    "sh2.plot(x = x_var,y = y2, ax = ax)\n",
    "\n",
    "yhat_gbm2 = pros_gbm2.predict(h2o.H2OFrame(valid_glm))\n",
    "#merge\n",
    "glm_yhat_valid2 = pd.concat([valid_glm.reset_index(drop=True),\n",
    "                           yhat_gbm2.as_data_frame()],\n",
    "                           axis = 1)\n"
   ]
  },
  {
   "cell_type": "markdown",
   "metadata": {},
   "source": [
    "use valid set to get predict Sale_Price"
   ]
  },
  {
   "cell_type": "code",
   "execution_count": 57,
   "metadata": {},
   "outputs": [
    {
     "data": {
      "text/plain": [
       "<matplotlib.axes._subplots.AxesSubplot at 0x1d975f456a0>"
      ]
     },
     "execution_count": 57,
     "metadata": {},
     "output_type": "execute_result"
    },
    {
     "data": {
      "image/png": "[encoded data removed]",
      "text/plain": [
       "<matplotlib.figure.Figure at 0x1d975fe0d30>"
      ]
     },
     "metadata": {
      "needs_background": "light"
     },
     "output_type": "display_data"
    }
   ],
   "source": [
    "#rename\n",
    "glm_yhat_valid2 = glm_yhat_valid.rename(columns = {\"predict\":\"p_SalePrice\"})\n",
    "\n",
    "#find percentile\n",
    "glm_percentile_dict2 = explain.get_percentile_dict(\"p_SalePrice\",glm_yhat_valid,\"Id\")\n",
    "\n",
    "#display\n",
    "glm_percentile_dict2\n",
    "\n",
    "#'get current axis'\n",
    "ax = plt.gca()\n",
    "\n",
    "glm_yhat_valid2.plot(x = \"Id\",y = \"SalePrice\",color = \"red\",ax=ax)\n",
    "glm_yhat_valid2.plot(x = \"Id\",y = \"p_SalePrice\", ax = ax)\n",
    "\n",
    "#plt.show()\n"
   ]
  },
  {
   "cell_type": "code",
   "execution_count": null,
   "metadata": {},
   "outputs": [],
   "source": []
  }
 ],
 "metadata": {
  "kernelspec": {
   "display_name": "Python 3",
   "language": "python",
   "name": "python3"
  },
  "language_info": {
   "codemirror_mode": {
    "name": "ipython",
    "version": 3
   },
   "file_extension": ".py",
   "mimetype": "text/x-python",
   "name": "python",
   "nbconvert_exporter": "python",
   "pygments_lexer": "ipython3",
   "version": "3.7.4"
  }
 },
 "nbformat": 4,
 "nbformat_minor": 4
}
